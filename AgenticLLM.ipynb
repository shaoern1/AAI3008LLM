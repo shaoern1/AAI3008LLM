{
  "cells": [
    {
      "cell_type": "code",
      "execution_count": 1,
      "metadata": {
        "colab": {
          "base_uri": "https://localhost:8080/"
        },
        "id": "BLC9TWvmDUdz",
        "outputId": "8f8d6fe2-8425-4245-ea66-4d6a4b0bddeb"
      },
      "outputs": [
        {
          "name": "stdout",
          "output_type": "stream",
          "text": [
            "Requirement already satisfied: langchain_community[all] in c:\\users\\asus-3070\\desktop\\github\\.venv\\lib\\site-packages (0.3.16)"
          ]
        },
        {
          "name": "stderr",
          "output_type": "stream",
          "text": [
            "WARNING: langchain-community 0.3.16 does not provide the extra 'all'\n"
          ]
        },
        {
          "name": "stdout",
          "output_type": "stream",
          "text": [
            "\n",
            "Requirement already satisfied: PyYAML>=5.3 in c:\\users\\asus-3070\\desktop\\github\\.venv\\lib\\site-packages (from langchain_community[all]) (6.0.2)\n",
            "Requirement already satisfied: SQLAlchemy<3,>=1.4 in c:\\users\\asus-3070\\desktop\\github\\.venv\\lib\\site-packages (from langchain_community[all]) (2.0.37)\n",
            "Requirement already satisfied: aiohttp<4.0.0,>=3.8.3 in c:\\users\\asus-3070\\desktop\\github\\.venv\\lib\\site-packages (from langchain_community[all]) (3.11.11)\n",
            "Requirement already satisfied: dataclasses-json<0.7,>=0.5.7 in c:\\users\\asus-3070\\desktop\\github\\.venv\\lib\\site-packages (from langchain_community[all]) (0.6.7)\n",
            "Requirement already satisfied: httpx-sse<0.5.0,>=0.4.0 in c:\\users\\asus-3070\\desktop\\github\\.venv\\lib\\site-packages (from langchain_community[all]) (0.4.0)\n",
            "Requirement already satisfied: langchain<0.4.0,>=0.3.16 in c:\\users\\asus-3070\\desktop\\github\\.venv\\lib\\site-packages (from langchain_community[all]) (0.3.19)\n",
            "Requirement already satisfied: langchain-core<0.4.0,>=0.3.32 in c:\\users\\asus-3070\\desktop\\github\\.venv\\lib\\site-packages (from langchain_community[all]) (0.3.37)\n",
            "Requirement already satisfied: langsmith<0.4,>=0.1.125 in c:\\users\\asus-3070\\desktop\\github\\.venv\\lib\\site-packages (from langchain_community[all]) (0.3.3)\n",
            "Requirement already satisfied: numpy<2,>=1.22.4 in c:\\users\\asus-3070\\desktop\\github\\.venv\\lib\\site-packages (from langchain_community[all]) (1.26.4)\n",
            "Requirement already satisfied: pydantic-settings<3.0.0,>=2.4.0 in c:\\users\\asus-3070\\desktop\\github\\.venv\\lib\\site-packages (from langchain_community[all]) (2.7.1)\n",
            "Requirement already satisfied: requests<3,>=2 in c:\\users\\asus-3070\\desktop\\github\\.venv\\lib\\site-packages (from langchain_community[all]) (2.32.3)\n",
            "Requirement already satisfied: tenacity!=8.4.0,<10,>=8.1.0 in c:\\users\\asus-3070\\desktop\\github\\.venv\\lib\\site-packages (from langchain_community[all]) (9.0.0)\n",
            "Requirement already satisfied: aiohappyeyeballs>=2.3.0 in c:\\users\\asus-3070\\desktop\\github\\.venv\\lib\\site-packages (from aiohttp<4.0.0,>=3.8.3->langchain_community[all]) (2.4.4)\n",
            "Requirement already satisfied: aiosignal>=1.1.2 in c:\\users\\asus-3070\\desktop\\github\\.venv\\lib\\site-packages (from aiohttp<4.0.0,>=3.8.3->langchain_community[all]) (1.3.2)\n",
            "Requirement already satisfied: async-timeout<6.0,>=4.0 in c:\\users\\asus-3070\\desktop\\github\\.venv\\lib\\site-packages (from aiohttp<4.0.0,>=3.8.3->langchain_community[all]) (4.0.3)\n",
            "Requirement already satisfied: attrs>=17.3.0 in c:\\users\\asus-3070\\desktop\\github\\.venv\\lib\\site-packages (from aiohttp<4.0.0,>=3.8.3->langchain_community[all]) (25.1.0)\n",
            "Requirement already satisfied: frozenlist>=1.1.1 in c:\\users\\asus-3070\\desktop\\github\\.venv\\lib\\site-packages (from aiohttp<4.0.0,>=3.8.3->langchain_community[all]) (1.5.0)\n",
            "Requirement already satisfied: multidict<7.0,>=4.5 in c:\\users\\asus-3070\\desktop\\github\\.venv\\lib\\site-packages (from aiohttp<4.0.0,>=3.8.3->langchain_community[all]) (6.1.0)\n",
            "Requirement already satisfied: propcache>=0.2.0 in c:\\users\\asus-3070\\desktop\\github\\.venv\\lib\\site-packages (from aiohttp<4.0.0,>=3.8.3->langchain_community[all]) (0.2.1)\n",
            "Requirement already satisfied: yarl<2.0,>=1.17.0 in c:\\users\\asus-3070\\desktop\\github\\.venv\\lib\\site-packages (from aiohttp<4.0.0,>=3.8.3->langchain_community[all]) (1.18.3)\n",
            "Requirement already satisfied: marshmallow<4.0.0,>=3.18.0 in c:\\users\\asus-3070\\desktop\\github\\.venv\\lib\\site-packages (from dataclasses-json<0.7,>=0.5.7->langchain_community[all]) (3.26.1)\n",
            "Requirement already satisfied: typing-inspect<1,>=0.4.0 in c:\\users\\asus-3070\\desktop\\github\\.venv\\lib\\site-packages (from dataclasses-json<0.7,>=0.5.7->langchain_community[all]) (0.9.0)\n",
            "Requirement already satisfied: langchain-text-splitters<1.0.0,>=0.3.6 in c:\\users\\asus-3070\\desktop\\github\\.venv\\lib\\site-packages (from langchain<0.4.0,>=0.3.16->langchain_community[all]) (0.3.6)\n",
            "Requirement already satisfied: pydantic<3.0.0,>=2.7.4 in c:\\users\\asus-3070\\desktop\\github\\.venv\\lib\\site-packages (from langchain<0.4.0,>=0.3.16->langchain_community[all]) (2.10.6)\n",
            "Requirement already satisfied: jsonpatch<2.0,>=1.33 in c:\\users\\asus-3070\\desktop\\github\\.venv\\lib\\site-packages (from langchain-core<0.4.0,>=0.3.32->langchain_community[all]) (1.33)\n",
            "Requirement already satisfied: packaging<25,>=23.2 in c:\\users\\asus-3070\\desktop\\github\\.venv\\lib\\site-packages (from langchain-core<0.4.0,>=0.3.32->langchain_community[all]) (24.2)\n",
            "Requirement already satisfied: typing-extensions>=4.7 in c:\\users\\asus-3070\\desktop\\github\\.venv\\lib\\site-packages (from langchain-core<0.4.0,>=0.3.32->langchain_community[all]) (4.12.2)\n",
            "Requirement already satisfied: httpx<1,>=0.23.0 in c:\\users\\asus-3070\\desktop\\github\\.venv\\lib\\site-packages (from langsmith<0.4,>=0.1.125->langchain_community[all]) (0.28.1)\n",
            "Requirement already satisfied: orjson<4.0.0,>=3.9.14 in c:\\users\\asus-3070\\desktop\\github\\.venv\\lib\\site-packages (from langsmith<0.4,>=0.1.125->langchain_community[all]) (3.10.15)\n",
            "Requirement already satisfied: requests-toolbelt<2.0.0,>=1.0.0 in c:\\users\\asus-3070\\desktop\\github\\.venv\\lib\\site-packages (from langsmith<0.4,>=0.1.125->langchain_community[all]) (1.0.0)\n",
            "Requirement already satisfied: zstandard<0.24.0,>=0.23.0 in c:\\users\\asus-3070\\desktop\\github\\.venv\\lib\\site-packages (from langsmith<0.4,>=0.1.125->langchain_community[all]) (0.23.0)\n",
            "Requirement already satisfied: python-dotenv>=0.21.0 in c:\\users\\asus-3070\\desktop\\github\\.venv\\lib\\site-packages (from pydantic-settings<3.0.0,>=2.4.0->langchain_community[all]) (1.0.1)\n",
            "Requirement already satisfied: charset-normalizer<4,>=2 in c:\\users\\asus-3070\\desktop\\github\\.venv\\lib\\site-packages (from requests<3,>=2->langchain_community[all]) (3.4.1)\n",
            "Requirement already satisfied: idna<4,>=2.5 in c:\\users\\asus-3070\\desktop\\github\\.venv\\lib\\site-packages (from requests<3,>=2->langchain_community[all]) (3.10)\n",
            "Requirement already satisfied: urllib3<3,>=1.21.1 in c:\\users\\asus-3070\\desktop\\github\\.venv\\lib\\site-packages (from requests<3,>=2->langchain_community[all]) (2.3.0)\n",
            "Requirement already satisfied: certifi>=2017.4.17 in c:\\users\\asus-3070\\desktop\\github\\.venv\\lib\\site-packages (from requests<3,>=2->langchain_community[all]) (2024.12.14)\n",
            "Requirement already satisfied: greenlet!=0.4.17 in c:\\users\\asus-3070\\desktop\\github\\.venv\\lib\\site-packages (from SQLAlchemy<3,>=1.4->langchain_community[all]) (3.1.1)\n",
            "Requirement already satisfied: anyio in c:\\users\\asus-3070\\desktop\\github\\.venv\\lib\\site-packages (from httpx<1,>=0.23.0->langsmith<0.4,>=0.1.125->langchain_community[all]) (4.8.0)\n",
            "Requirement already satisfied: httpcore==1.* in c:\\users\\asus-3070\\desktop\\github\\.venv\\lib\\site-packages (from httpx<1,>=0.23.0->langsmith<0.4,>=0.1.125->langchain_community[all]) (1.0.7)\n",
            "Requirement already satisfied: h11<0.15,>=0.13 in c:\\users\\asus-3070\\desktop\\github\\.venv\\lib\\site-packages (from httpcore==1.*->httpx<1,>=0.23.0->langsmith<0.4,>=0.1.125->langchain_community[all]) (0.14.0)\n",
            "Requirement already satisfied: jsonpointer>=1.9 in c:\\users\\asus-3070\\desktop\\github\\.venv\\lib\\site-packages (from jsonpatch<2.0,>=1.33->langchain-core<0.4.0,>=0.3.32->langchain_community[all]) (3.0.0)\n",
            "Requirement already satisfied: annotated-types>=0.6.0 in c:\\users\\asus-3070\\desktop\\github\\.venv\\lib\\site-packages (from pydantic<3.0.0,>=2.7.4->langchain<0.4.0,>=0.3.16->langchain_community[all]) (0.7.0)\n",
            "Requirement already satisfied: pydantic-core==2.27.2 in c:\\users\\asus-3070\\desktop\\github\\.venv\\lib\\site-packages (from pydantic<3.0.0,>=2.7.4->langchain<0.4.0,>=0.3.16->langchain_community[all]) (2.27.2)\n",
            "Requirement already satisfied: mypy-extensions>=0.3.0 in c:\\users\\asus-3070\\desktop\\github\\.venv\\lib\\site-packages (from typing-inspect<1,>=0.4.0->dataclasses-json<0.7,>=0.5.7->langchain_community[all]) (1.0.0)\n",
            "Requirement already satisfied: exceptiongroup>=1.0.2 in c:\\users\\asus-3070\\desktop\\github\\.venv\\lib\\site-packages (from anyio->httpx<1,>=0.23.0->langsmith<0.4,>=0.1.125->langchain_community[all]) (1.2.2)\n",
            "Requirement already satisfied: sniffio>=1.1 in c:\\users\\asus-3070\\desktop\\github\\.venv\\lib\\site-packages (from anyio->httpx<1,>=0.23.0->langsmith<0.4,>=0.1.125->langchain_community[all]) (1.3.1)\n",
            "Requirement already satisfied: llama-parse in c:\\users\\asus-3070\\desktop\\github\\.venv\\lib\\site-packages (0.5.20)\n",
            "Requirement already satisfied: click<9.0.0,>=8.1.7 in c:\\users\\asus-3070\\desktop\\github\\.venv\\lib\\site-packages (from llama-parse) (8.1.8)\n",
            "Requirement already satisfied: llama-index-core>=0.11.0 in c:\\users\\asus-3070\\desktop\\github\\.venv\\lib\\site-packages (from llama-parse) (0.12.15)\n",
            "Requirement already satisfied: pydantic!=2.10 in c:\\users\\asus-3070\\desktop\\github\\.venv\\lib\\site-packages (from llama-parse) (2.10.6)\n",
            "Requirement already satisfied: colorama in c:\\users\\asus-3070\\desktop\\github\\.venv\\lib\\site-packages (from click<9.0.0,>=8.1.7->llama-parse) (0.4.6)\n",
            "Requirement already satisfied: PyYAML>=6.0.1 in c:\\users\\asus-3070\\desktop\\github\\.venv\\lib\\site-packages (from llama-index-core>=0.11.0->llama-parse) (6.0.2)\n",
            "Requirement already satisfied: SQLAlchemy>=1.4.49 in c:\\users\\asus-3070\\desktop\\github\\.venv\\lib\\site-packages (from SQLAlchemy[asyncio]>=1.4.49->llama-index-core>=0.11.0->llama-parse) (2.0.37)\n",
            "Requirement already satisfied: aiohttp<4.0.0,>=3.8.6 in c:\\users\\asus-3070\\desktop\\github\\.venv\\lib\\site-packages (from llama-index-core>=0.11.0->llama-parse) (3.11.11)\n",
            "Requirement already satisfied: dataclasses-json in c:\\users\\asus-3070\\desktop\\github\\.venv\\lib\\site-packages (from llama-index-core>=0.11.0->llama-parse) (0.6.7)\n",
            "Requirement already satisfied: deprecated>=1.2.9.3 in c:\\users\\asus-3070\\desktop\\github\\.venv\\lib\\site-packages (from llama-index-core>=0.11.0->llama-parse) (1.2.18)\n",
            "Requirement already satisfied: dirtyjson<2.0.0,>=1.0.8 in c:\\users\\asus-3070\\desktop\\github\\.venv\\lib\\site-packages (from llama-index-core>=0.11.0->llama-parse) (1.0.8)\n",
            "Requirement already satisfied: eval-type-backport<0.3.0,>=0.2.0 in c:\\users\\asus-3070\\desktop\\github\\.venv\\lib\\site-packages (from llama-index-core>=0.11.0->llama-parse) (0.2.2)\n",
            "Requirement already satisfied: filetype<2.0.0,>=1.2.0 in c:\\users\\asus-3070\\desktop\\github\\.venv\\lib\\site-packages (from llama-index-core>=0.11.0->llama-parse) (1.2.0)\n",
            "Requirement already satisfied: fsspec>=2023.5.0 in c:\\users\\asus-3070\\desktop\\github\\.venv\\lib\\site-packages (from llama-index-core>=0.11.0->llama-parse) (2025.2.0)\n",
            "Requirement already satisfied: httpx in c:\\users\\asus-3070\\desktop\\github\\.venv\\lib\\site-packages (from llama-index-core>=0.11.0->llama-parse) (0.28.1)\n",
            "Requirement already satisfied: nest-asyncio<2.0.0,>=1.5.8 in c:\\users\\asus-3070\\desktop\\github\\.venv\\lib\\site-packages (from llama-index-core>=0.11.0->llama-parse) (1.6.0)\n",
            "Requirement already satisfied: networkx>=3.0 in c:\\users\\asus-3070\\desktop\\github\\.venv\\lib\\site-packages (from llama-index-core>=0.11.0->llama-parse) (3.2.1)\n",
            "Requirement already satisfied: nltk>3.8.1 in c:\\users\\asus-3070\\desktop\\github\\.venv\\lib\\site-packages (from llama-index-core>=0.11.0->llama-parse) (3.9.1)\n",
            "Requirement already satisfied: numpy in c:\\users\\asus-3070\\desktop\\github\\.venv\\lib\\site-packages (from llama-index-core>=0.11.0->llama-parse) (1.26.4)\n",
            "Requirement already satisfied: pillow>=9.0.0 in c:\\users\\asus-3070\\desktop\\github\\.venv\\lib\\site-packages (from llama-index-core>=0.11.0->llama-parse) (10.4.0)\n",
            "Requirement already satisfied: requests>=2.31.0 in c:\\users\\asus-3070\\desktop\\github\\.venv\\lib\\site-packages (from llama-index-core>=0.11.0->llama-parse) (2.32.3)\n",
            "Requirement already satisfied: tenacity!=8.4.0,<10.0.0,>=8.2.0 in c:\\users\\asus-3070\\desktop\\github\\.venv\\lib\\site-packages (from llama-index-core>=0.11.0->llama-parse) (9.0.0)\n",
            "Requirement already satisfied: tiktoken>=0.3.3 in c:\\users\\asus-3070\\desktop\\github\\.venv\\lib\\site-packages (from llama-index-core>=0.11.0->llama-parse) (0.8.0)\n",
            "Requirement already satisfied: tqdm<5.0.0,>=4.66.1 in c:\\users\\asus-3070\\desktop\\github\\.venv\\lib\\site-packages (from llama-index-core>=0.11.0->llama-parse) (4.67.1)\n",
            "Requirement already satisfied: typing-extensions>=4.5.0 in c:\\users\\asus-3070\\desktop\\github\\.venv\\lib\\site-packages (from llama-index-core>=0.11.0->llama-parse) (4.12.2)\n",
            "Requirement already satisfied: typing-inspect>=0.8.0 in c:\\users\\asus-3070\\desktop\\github\\.venv\\lib\\site-packages (from llama-index-core>=0.11.0->llama-parse) (0.9.0)\n",
            "Requirement already satisfied: wrapt in c:\\users\\asus-3070\\desktop\\github\\.venv\\lib\\site-packages (from llama-index-core>=0.11.0->llama-parse) (1.17.2)\n",
            "Requirement already satisfied: annotated-types>=0.6.0 in c:\\users\\asus-3070\\desktop\\github\\.venv\\lib\\site-packages (from pydantic!=2.10->llama-parse) (0.7.0)\n",
            "Requirement already satisfied: pydantic-core==2.27.2 in c:\\users\\asus-3070\\desktop\\github\\.venv\\lib\\site-packages (from pydantic!=2.10->llama-parse) (2.27.2)\n",
            "Requirement already satisfied: aiohappyeyeballs>=2.3.0 in c:\\users\\asus-3070\\desktop\\github\\.venv\\lib\\site-packages (from aiohttp<4.0.0,>=3.8.6->llama-index-core>=0.11.0->llama-parse) (2.4.4)\n",
            "Requirement already satisfied: aiosignal>=1.1.2 in c:\\users\\asus-3070\\desktop\\github\\.venv\\lib\\site-packages (from aiohttp<4.0.0,>=3.8.6->llama-index-core>=0.11.0->llama-parse) (1.3.2)\n",
            "Requirement already satisfied: async-timeout<6.0,>=4.0 in c:\\users\\asus-3070\\desktop\\github\\.venv\\lib\\site-packages (from aiohttp<4.0.0,>=3.8.6->llama-index-core>=0.11.0->llama-parse) (4.0.3)\n",
            "Requirement already satisfied: attrs>=17.3.0 in c:\\users\\asus-3070\\desktop\\github\\.venv\\lib\\site-packages (from aiohttp<4.0.0,>=3.8.6->llama-index-core>=0.11.0->llama-parse) (25.1.0)\n",
            "Requirement already satisfied: frozenlist>=1.1.1 in c:\\users\\asus-3070\\desktop\\github\\.venv\\lib\\site-packages (from aiohttp<4.0.0,>=3.8.6->llama-index-core>=0.11.0->llama-parse) (1.5.0)\n",
            "Requirement already satisfied: multidict<7.0,>=4.5 in c:\\users\\asus-3070\\desktop\\github\\.venv\\lib\\site-packages (from aiohttp<4.0.0,>=3.8.6->llama-index-core>=0.11.0->llama-parse) (6.1.0)\n",
            "Requirement already satisfied: propcache>=0.2.0 in c:\\users\\asus-3070\\desktop\\github\\.venv\\lib\\site-packages (from aiohttp<4.0.0,>=3.8.6->llama-index-core>=0.11.0->llama-parse) (0.2.1)\n",
            "Requirement already satisfied: yarl<2.0,>=1.17.0 in c:\\users\\asus-3070\\desktop\\github\\.venv\\lib\\site-packages (from aiohttp<4.0.0,>=3.8.6->llama-index-core>=0.11.0->llama-parse) (1.18.3)\n",
            "Requirement already satisfied: joblib in c:\\users\\asus-3070\\desktop\\github\\.venv\\lib\\site-packages (from nltk>3.8.1->llama-index-core>=0.11.0->llama-parse) (1.4.2)\n",
            "Requirement already satisfied: regex>=2021.8.3 in c:\\users\\asus-3070\\desktop\\github\\.venv\\lib\\site-packages (from nltk>3.8.1->llama-index-core>=0.11.0->llama-parse) (2024.11.6)\n",
            "Requirement already satisfied: charset-normalizer<4,>=2 in c:\\users\\asus-3070\\desktop\\github\\.venv\\lib\\site-packages (from requests>=2.31.0->llama-index-core>=0.11.0->llama-parse) (3.4.1)\n",
            "Requirement already satisfied: idna<4,>=2.5 in c:\\users\\asus-3070\\desktop\\github\\.venv\\lib\\site-packages (from requests>=2.31.0->llama-index-core>=0.11.0->llama-parse) (3.10)\n",
            "Requirement already satisfied: urllib3<3,>=1.21.1 in c:\\users\\asus-3070\\desktop\\github\\.venv\\lib\\site-packages (from requests>=2.31.0->llama-index-core>=0.11.0->llama-parse) (2.3.0)\n",
            "Requirement already satisfied: certifi>=2017.4.17 in c:\\users\\asus-3070\\desktop\\github\\.venv\\lib\\site-packages (from requests>=2.31.0->llama-index-core>=0.11.0->llama-parse) (2024.12.14)\n",
            "Requirement already satisfied: greenlet!=0.4.17 in c:\\users\\asus-3070\\desktop\\github\\.venv\\lib\\site-packages (from SQLAlchemy>=1.4.49->SQLAlchemy[asyncio]>=1.4.49->llama-index-core>=0.11.0->llama-parse) (3.1.1)\n",
            "Requirement already satisfied: mypy-extensions>=0.3.0 in c:\\users\\asus-3070\\desktop\\github\\.venv\\lib\\site-packages (from typing-inspect>=0.8.0->llama-index-core>=0.11.0->llama-parse) (1.0.0)\n",
            "Requirement already satisfied: marshmallow<4.0.0,>=3.18.0 in c:\\users\\asus-3070\\desktop\\github\\.venv\\lib\\site-packages (from dataclasses-json->llama-index-core>=0.11.0->llama-parse) (3.26.1)\n",
            "Requirement already satisfied: anyio in c:\\users\\asus-3070\\desktop\\github\\.venv\\lib\\site-packages (from httpx->llama-index-core>=0.11.0->llama-parse) (4.8.0)\n",
            "Requirement already satisfied: httpcore==1.* in c:\\users\\asus-3070\\desktop\\github\\.venv\\lib\\site-packages (from httpx->llama-index-core>=0.11.0->llama-parse) (1.0.7)\n",
            "Requirement already satisfied: h11<0.15,>=0.13 in c:\\users\\asus-3070\\desktop\\github\\.venv\\lib\\site-packages (from httpcore==1.*->httpx->llama-index-core>=0.11.0->llama-parse) (0.14.0)\n",
            "Requirement already satisfied: packaging>=17.0 in c:\\users\\asus-3070\\desktop\\github\\.venv\\lib\\site-packages (from marshmallow<4.0.0,>=3.18.0->dataclasses-json->llama-index-core>=0.11.0->llama-parse) (24.2)\n",
            "Requirement already satisfied: exceptiongroup>=1.0.2 in c:\\users\\asus-3070\\desktop\\github\\.venv\\lib\\site-packages (from anyio->httpx->llama-index-core>=0.11.0->llama-parse) (1.2.2)\n",
            "Requirement already satisfied: sniffio>=1.1 in c:\\users\\asus-3070\\desktop\\github\\.venv\\lib\\site-packages (from anyio->httpx->llama-index-core>=0.11.0->llama-parse) (1.3.1)\n",
            "Requirement already satisfied: qdrant_client in c:\\users\\asus-3070\\desktop\\github\\.venv\\lib\\site-packages (1.13.2)\n",
            "Requirement already satisfied: grpcio>=1.41.0 in c:\\users\\asus-3070\\desktop\\github\\.venv\\lib\\site-packages (from qdrant_client) (1.70.0)\n",
            "Requirement already satisfied: grpcio-tools>=1.41.0 in c:\\users\\asus-3070\\desktop\\github\\.venv\\lib\\site-packages (from qdrant_client) (1.70.0)\n",
            "Requirement already satisfied: httpx>=0.20.0 in c:\\users\\asus-3070\\desktop\\github\\.venv\\lib\\site-packages (from httpx[http2]>=0.20.0->qdrant_client) (0.28.1)\n",
            "Requirement already satisfied: numpy<2.1.0,>=1.21 in c:\\users\\asus-3070\\desktop\\github\\.venv\\lib\\site-packages (from qdrant_client) (1.26.4)\n",
            "Requirement already satisfied: portalocker<3.0.0,>=2.7.0 in c:\\users\\asus-3070\\desktop\\github\\.venv\\lib\\site-packages (from qdrant_client) (2.10.1)\n",
            "Requirement already satisfied: pydantic>=1.10.8 in c:\\users\\asus-3070\\desktop\\github\\.venv\\lib\\site-packages (from qdrant_client) (2.10.6)\n",
            "Requirement already satisfied: urllib3<3,>=1.26.14 in c:\\users\\asus-3070\\desktop\\github\\.venv\\lib\\site-packages (from qdrant_client) (2.3.0)\n",
            "Requirement already satisfied: protobuf<6.0dev,>=5.26.1 in c:\\users\\asus-3070\\desktop\\github\\.venv\\lib\\site-packages (from grpcio-tools>=1.41.0->qdrant_client) (5.29.3)\n",
            "Requirement already satisfied: setuptools in c:\\users\\asus-3070\\desktop\\github\\.venv\\lib\\site-packages (from grpcio-tools>=1.41.0->qdrant_client) (58.1.0)\n",
            "Requirement already satisfied: anyio in c:\\users\\asus-3070\\desktop\\github\\.venv\\lib\\site-packages (from httpx>=0.20.0->httpx[http2]>=0.20.0->qdrant_client) (4.8.0)\n",
            "Requirement already satisfied: certifi in c:\\users\\asus-3070\\desktop\\github\\.venv\\lib\\site-packages (from httpx>=0.20.0->httpx[http2]>=0.20.0->qdrant_client) (2024.12.14)\n",
            "Requirement already satisfied: httpcore==1.* in c:\\users\\asus-3070\\desktop\\github\\.venv\\lib\\site-packages (from httpx>=0.20.0->httpx[http2]>=0.20.0->qdrant_client) (1.0.7)\n",
            "Requirement already satisfied: idna in c:\\users\\asus-3070\\desktop\\github\\.venv\\lib\\site-packages (from httpx>=0.20.0->httpx[http2]>=0.20.0->qdrant_client) (3.10)\n",
            "Requirement already satisfied: h11<0.15,>=0.13 in c:\\users\\asus-3070\\desktop\\github\\.venv\\lib\\site-packages (from httpcore==1.*->httpx>=0.20.0->httpx[http2]>=0.20.0->qdrant_client) (0.14.0)\n",
            "Requirement already satisfied: h2<5,>=3 in c:\\users\\asus-3070\\desktop\\github\\.venv\\lib\\site-packages (from httpx[http2]>=0.20.0->qdrant_client) (4.1.0)\n",
            "Requirement already satisfied: pywin32>=226 in c:\\users\\asus-3070\\desktop\\github\\.venv\\lib\\site-packages (from portalocker<3.0.0,>=2.7.0->qdrant_client) (308)\n",
            "Requirement already satisfied: annotated-types>=0.6.0 in c:\\users\\asus-3070\\desktop\\github\\.venv\\lib\\site-packages (from pydantic>=1.10.8->qdrant_client) (0.7.0)\n",
            "Requirement already satisfied: pydantic-core==2.27.2 in c:\\users\\asus-3070\\desktop\\github\\.venv\\lib\\site-packages (from pydantic>=1.10.8->qdrant_client) (2.27.2)\n",
            "Requirement already satisfied: typing-extensions>=4.12.2 in c:\\users\\asus-3070\\desktop\\github\\.venv\\lib\\site-packages (from pydantic>=1.10.8->qdrant_client) (4.12.2)\n",
            "Requirement already satisfied: hyperframe<7,>=6.0 in c:\\users\\asus-3070\\desktop\\github\\.venv\\lib\\site-packages (from h2<5,>=3->httpx[http2]>=0.20.0->qdrant_client) (6.1.0)\n",
            "Requirement already satisfied: hpack<5,>=4.0 in c:\\users\\asus-3070\\desktop\\github\\.venv\\lib\\site-packages (from h2<5,>=3->httpx[http2]>=0.20.0->qdrant_client) (4.1.0)\n",
            "Requirement already satisfied: exceptiongroup>=1.0.2 in c:\\users\\asus-3070\\desktop\\github\\.venv\\lib\\site-packages (from anyio->httpx>=0.20.0->httpx[http2]>=0.20.0->qdrant_client) (1.2.2)\n",
            "Requirement already satisfied: sniffio>=1.1 in c:\\users\\asus-3070\\desktop\\github\\.venv\\lib\\site-packages (from anyio->httpx>=0.20.0->httpx[http2]>=0.20.0->qdrant_client) (1.3.1)\n",
            "Requirement already satisfied: langchain_qdrant in c:\\users\\asus-3070\\desktop\\github\\.venv\\lib\\site-packages (0.2.0)\n",
            "Requirement already satisfied: langchain-core!=0.3.0,!=0.3.1,!=0.3.10,!=0.3.11,!=0.3.12,!=0.3.13,!=0.3.14,!=0.3.2,!=0.3.3,!=0.3.4,!=0.3.5,!=0.3.6,!=0.3.7,!=0.3.8,!=0.3.9,<0.4.0,>=0.2.43 in c:\\users\\asus-3070\\desktop\\github\\.venv\\lib\\site-packages (from langchain_qdrant) (0.3.37)\n",
            "Requirement already satisfied: pydantic<3.0.0,>=2.7.4 in c:\\users\\asus-3070\\desktop\\github\\.venv\\lib\\site-packages (from langchain_qdrant) (2.10.6)\n",
            "Requirement already satisfied: qdrant-client<2.0.0,>=1.10.1 in c:\\users\\asus-3070\\desktop\\github\\.venv\\lib\\site-packages (from langchain_qdrant) (1.13.2)\n",
            "Requirement already satisfied: langsmith<0.4,>=0.1.125 in c:\\users\\asus-3070\\desktop\\github\\.venv\\lib\\site-packages (from langchain-core!=0.3.0,!=0.3.1,!=0.3.10,!=0.3.11,!=0.3.12,!=0.3.13,!=0.3.14,!=0.3.2,!=0.3.3,!=0.3.4,!=0.3.5,!=0.3.6,!=0.3.7,!=0.3.8,!=0.3.9,<0.4.0,>=0.2.43->langchain_qdrant) (0.3.3)\n",
            "Requirement already satisfied: tenacity!=8.4.0,<10.0.0,>=8.1.0 in c:\\users\\asus-3070\\desktop\\github\\.venv\\lib\\site-packages (from langchain-core!=0.3.0,!=0.3.1,!=0.3.10,!=0.3.11,!=0.3.12,!=0.3.13,!=0.3.14,!=0.3.2,!=0.3.3,!=0.3.4,!=0.3.5,!=0.3.6,!=0.3.7,!=0.3.8,!=0.3.9,<0.4.0,>=0.2.43->langchain_qdrant) (9.0.0)\n",
            "Requirement already satisfied: jsonpatch<2.0,>=1.33 in c:\\users\\asus-3070\\desktop\\github\\.venv\\lib\\site-packages (from langchain-core!=0.3.0,!=0.3.1,!=0.3.10,!=0.3.11,!=0.3.12,!=0.3.13,!=0.3.14,!=0.3.2,!=0.3.3,!=0.3.4,!=0.3.5,!=0.3.6,!=0.3.7,!=0.3.8,!=0.3.9,<0.4.0,>=0.2.43->langchain_qdrant) (1.33)\n",
            "Requirement already satisfied: PyYAML>=5.3 in c:\\users\\asus-3070\\desktop\\github\\.venv\\lib\\site-packages (from langchain-core!=0.3.0,!=0.3.1,!=0.3.10,!=0.3.11,!=0.3.12,!=0.3.13,!=0.3.14,!=0.3.2,!=0.3.3,!=0.3.4,!=0.3.5,!=0.3.6,!=0.3.7,!=0.3.8,!=0.3.9,<0.4.0,>=0.2.43->langchain_qdrant) (6.0.2)\n",
            "Requirement already satisfied: packaging<25,>=23.2 in c:\\users\\asus-3070\\desktop\\github\\.venv\\lib\\site-packages (from langchain-core!=0.3.0,!=0.3.1,!=0.3.10,!=0.3.11,!=0.3.12,!=0.3.13,!=0.3.14,!=0.3.2,!=0.3.3,!=0.3.4,!=0.3.5,!=0.3.6,!=0.3.7,!=0.3.8,!=0.3.9,<0.4.0,>=0.2.43->langchain_qdrant) (24.2)\n",
            "Requirement already satisfied: typing-extensions>=4.7 in c:\\users\\asus-3070\\desktop\\github\\.venv\\lib\\site-packages (from langchain-core!=0.3.0,!=0.3.1,!=0.3.10,!=0.3.11,!=0.3.12,!=0.3.13,!=0.3.14,!=0.3.2,!=0.3.3,!=0.3.4,!=0.3.5,!=0.3.6,!=0.3.7,!=0.3.8,!=0.3.9,<0.4.0,>=0.2.43->langchain_qdrant) (4.12.2)\n",
            "Requirement already satisfied: annotated-types>=0.6.0 in c:\\users\\asus-3070\\desktop\\github\\.venv\\lib\\site-packages (from pydantic<3.0.0,>=2.7.4->langchain_qdrant) (0.7.0)\n",
            "Requirement already satisfied: pydantic-core==2.27.2 in c:\\users\\asus-3070\\desktop\\github\\.venv\\lib\\site-packages (from pydantic<3.0.0,>=2.7.4->langchain_qdrant) (2.27.2)\n",
            "Requirement already satisfied: grpcio>=1.41.0 in c:\\users\\asus-3070\\desktop\\github\\.venv\\lib\\site-packages (from qdrant-client<2.0.0,>=1.10.1->langchain_qdrant) (1.70.0)\n",
            "Requirement already satisfied: grpcio-tools>=1.41.0 in c:\\users\\asus-3070\\desktop\\github\\.venv\\lib\\site-packages (from qdrant-client<2.0.0,>=1.10.1->langchain_qdrant) (1.70.0)\n",
            "Requirement already satisfied: httpx>=0.20.0 in c:\\users\\asus-3070\\desktop\\github\\.venv\\lib\\site-packages (from httpx[http2]>=0.20.0->qdrant-client<2.0.0,>=1.10.1->langchain_qdrant) (0.28.1)\n",
            "Requirement already satisfied: numpy<2.1.0,>=1.21 in c:\\users\\asus-3070\\desktop\\github\\.venv\\lib\\site-packages (from qdrant-client<2.0.0,>=1.10.1->langchain_qdrant) (1.26.4)\n",
            "Requirement already satisfied: portalocker<3.0.0,>=2.7.0 in c:\\users\\asus-3070\\desktop\\github\\.venv\\lib\\site-packages (from qdrant-client<2.0.0,>=1.10.1->langchain_qdrant) (2.10.1)\n",
            "Requirement already satisfied: urllib3<3,>=1.26.14 in c:\\users\\asus-3070\\desktop\\github\\.venv\\lib\\site-packages (from qdrant-client<2.0.0,>=1.10.1->langchain_qdrant) (2.3.0)\n",
            "Requirement already satisfied: protobuf<6.0dev,>=5.26.1 in c:\\users\\asus-3070\\desktop\\github\\.venv\\lib\\site-packages (from grpcio-tools>=1.41.0->qdrant-client<2.0.0,>=1.10.1->langchain_qdrant) (5.29.3)\n",
            "Requirement already satisfied: setuptools in c:\\users\\asus-3070\\desktop\\github\\.venv\\lib\\site-packages (from grpcio-tools>=1.41.0->qdrant-client<2.0.0,>=1.10.1->langchain_qdrant) (58.1.0)\n",
            "Requirement already satisfied: anyio in c:\\users\\asus-3070\\desktop\\github\\.venv\\lib\\site-packages (from httpx>=0.20.0->httpx[http2]>=0.20.0->qdrant-client<2.0.0,>=1.10.1->langchain_qdrant) (4.8.0)\n",
            "Requirement already satisfied: certifi in c:\\users\\asus-3070\\desktop\\github\\.venv\\lib\\site-packages (from httpx>=0.20.0->httpx[http2]>=0.20.0->qdrant-client<2.0.0,>=1.10.1->langchain_qdrant) (2024.12.14)\n",
            "Requirement already satisfied: httpcore==1.* in c:\\users\\asus-3070\\desktop\\github\\.venv\\lib\\site-packages (from httpx>=0.20.0->httpx[http2]>=0.20.0->qdrant-client<2.0.0,>=1.10.1->langchain_qdrant) (1.0.7)\n",
            "Requirement already satisfied: idna in c:\\users\\asus-3070\\desktop\\github\\.venv\\lib\\site-packages (from httpx>=0.20.0->httpx[http2]>=0.20.0->qdrant-client<2.0.0,>=1.10.1->langchain_qdrant) (3.10)\n",
            "Requirement already satisfied: h11<0.15,>=0.13 in c:\\users\\asus-3070\\desktop\\github\\.venv\\lib\\site-packages (from httpcore==1.*->httpx>=0.20.0->httpx[http2]>=0.20.0->qdrant-client<2.0.0,>=1.10.1->langchain_qdrant) (0.14.0)\n",
            "Requirement already satisfied: h2<5,>=3 in c:\\users\\asus-3070\\desktop\\github\\.venv\\lib\\site-packages (from httpx[http2]>=0.20.0->qdrant-client<2.0.0,>=1.10.1->langchain_qdrant) (4.1.0)\n",
            "Requirement already satisfied: jsonpointer>=1.9 in c:\\users\\asus-3070\\desktop\\github\\.venv\\lib\\site-packages (from jsonpatch<2.0,>=1.33->langchain-core!=0.3.0,!=0.3.1,!=0.3.10,!=0.3.11,!=0.3.12,!=0.3.13,!=0.3.14,!=0.3.2,!=0.3.3,!=0.3.4,!=0.3.5,!=0.3.6,!=0.3.7,!=0.3.8,!=0.3.9,<0.4.0,>=0.2.43->langchain_qdrant) (3.0.0)\n",
            "Requirement already satisfied: orjson<4.0.0,>=3.9.14 in c:\\users\\asus-3070\\desktop\\github\\.venv\\lib\\site-packages (from langsmith<0.4,>=0.1.125->langchain-core!=0.3.0,!=0.3.1,!=0.3.10,!=0.3.11,!=0.3.12,!=0.3.13,!=0.3.14,!=0.3.2,!=0.3.3,!=0.3.4,!=0.3.5,!=0.3.6,!=0.3.7,!=0.3.8,!=0.3.9,<0.4.0,>=0.2.43->langchain_qdrant) (3.10.15)\n",
            "Requirement already satisfied: requests<3,>=2 in c:\\users\\asus-3070\\desktop\\github\\.venv\\lib\\site-packages (from langsmith<0.4,>=0.1.125->langchain-core!=0.3.0,!=0.3.1,!=0.3.10,!=0.3.11,!=0.3.12,!=0.3.13,!=0.3.14,!=0.3.2,!=0.3.3,!=0.3.4,!=0.3.5,!=0.3.6,!=0.3.7,!=0.3.8,!=0.3.9,<0.4.0,>=0.2.43->langchain_qdrant) (2.32.3)\n",
            "Requirement already satisfied: requests-toolbelt<2.0.0,>=1.0.0 in c:\\users\\asus-3070\\desktop\\github\\.venv\\lib\\site-packages (from langsmith<0.4,>=0.1.125->langchain-core!=0.3.0,!=0.3.1,!=0.3.10,!=0.3.11,!=0.3.12,!=0.3.13,!=0.3.14,!=0.3.2,!=0.3.3,!=0.3.4,!=0.3.5,!=0.3.6,!=0.3.7,!=0.3.8,!=0.3.9,<0.4.0,>=0.2.43->langchain_qdrant) (1.0.0)\n",
            "Requirement already satisfied: zstandard<0.24.0,>=0.23.0 in c:\\users\\asus-3070\\desktop\\github\\.venv\\lib\\site-packages (from langsmith<0.4,>=0.1.125->langchain-core!=0.3.0,!=0.3.1,!=0.3.10,!=0.3.11,!=0.3.12,!=0.3.13,!=0.3.14,!=0.3.2,!=0.3.3,!=0.3.4,!=0.3.5,!=0.3.6,!=0.3.7,!=0.3.8,!=0.3.9,<0.4.0,>=0.2.43->langchain_qdrant) (0.23.0)\n",
            "Requirement already satisfied: pywin32>=226 in c:\\users\\asus-3070\\desktop\\github\\.venv\\lib\\site-packages (from portalocker<3.0.0,>=2.7.0->qdrant-client<2.0.0,>=1.10.1->langchain_qdrant) (308)\n",
            "Requirement already satisfied: hyperframe<7,>=6.0 in c:\\users\\asus-3070\\desktop\\github\\.venv\\lib\\site-packages (from h2<5,>=3->httpx[http2]>=0.20.0->qdrant-client<2.0.0,>=1.10.1->langchain_qdrant) (6.1.0)\n",
            "Requirement already satisfied: hpack<5,>=4.0 in c:\\users\\asus-3070\\desktop\\github\\.venv\\lib\\site-packages (from h2<5,>=3->httpx[http2]>=0.20.0->qdrant-client<2.0.0,>=1.10.1->langchain_qdrant) (4.1.0)\n",
            "Requirement already satisfied: charset-normalizer<4,>=2 in c:\\users\\asus-3070\\desktop\\github\\.venv\\lib\\site-packages (from requests<3,>=2->langsmith<0.4,>=0.1.125->langchain-core!=0.3.0,!=0.3.1,!=0.3.10,!=0.3.11,!=0.3.12,!=0.3.13,!=0.3.14,!=0.3.2,!=0.3.3,!=0.3.4,!=0.3.5,!=0.3.6,!=0.3.7,!=0.3.8,!=0.3.9,<0.4.0,>=0.2.43->langchain_qdrant) (3.4.1)\n",
            "Requirement already satisfied: exceptiongroup>=1.0.2 in c:\\users\\asus-3070\\desktop\\github\\.venv\\lib\\site-packages (from anyio->httpx>=0.20.0->httpx[http2]>=0.20.0->qdrant-client<2.0.0,>=1.10.1->langchain_qdrant) (1.2.2)\n",
            "Requirement already satisfied: sniffio>=1.1 in c:\\users\\asus-3070\\desktop\\github\\.venv\\lib\\site-packages (from anyio->httpx>=0.20.0->httpx[http2]>=0.20.0->qdrant-client<2.0.0,>=1.10.1->langchain_qdrant) (1.3.1)\n",
            "Requirement already satisfied: ollama in c:\\users\\asus-3070\\desktop\\github\\.venv\\lib\\site-packages (0.4.7)\n",
            "Requirement already satisfied: httpx<0.29,>=0.27 in c:\\users\\asus-3070\\desktop\\github\\.venv\\lib\\site-packages (from ollama) (0.28.1)\n",
            "Requirement already satisfied: pydantic<3.0.0,>=2.9.0 in c:\\users\\asus-3070\\desktop\\github\\.venv\\lib\\site-packages (from ollama) (2.10.6)\n",
            "Requirement already satisfied: anyio in c:\\users\\asus-3070\\desktop\\github\\.venv\\lib\\site-packages (from httpx<0.29,>=0.27->ollama) (4.8.0)\n",
            "Requirement already satisfied: certifi in c:\\users\\asus-3070\\desktop\\github\\.venv\\lib\\site-packages (from httpx<0.29,>=0.27->ollama) (2024.12.14)\n",
            "Requirement already satisfied: httpcore==1.* in c:\\users\\asus-3070\\desktop\\github\\.venv\\lib\\site-packages (from httpx<0.29,>=0.27->ollama) (1.0.7)\n",
            "Requirement already satisfied: idna in c:\\users\\asus-3070\\desktop\\github\\.venv\\lib\\site-packages (from httpx<0.29,>=0.27->ollama) (3.10)\n",
            "Requirement already satisfied: h11<0.15,>=0.13 in c:\\users\\asus-3070\\desktop\\github\\.venv\\lib\\site-packages (from httpcore==1.*->httpx<0.29,>=0.27->ollama) (0.14.0)\n",
            "Requirement already satisfied: annotated-types>=0.6.0 in c:\\users\\asus-3070\\desktop\\github\\.venv\\lib\\site-packages (from pydantic<3.0.0,>=2.9.0->ollama) (0.7.0)\n",
            "Requirement already satisfied: pydantic-core==2.27.2 in c:\\users\\asus-3070\\desktop\\github\\.venv\\lib\\site-packages (from pydantic<3.0.0,>=2.9.0->ollama) (2.27.2)\n",
            "Requirement already satisfied: typing-extensions>=4.12.2 in c:\\users\\asus-3070\\desktop\\github\\.venv\\lib\\site-packages (from pydantic<3.0.0,>=2.9.0->ollama) (4.12.2)\n",
            "Requirement already satisfied: exceptiongroup>=1.0.2 in c:\\users\\asus-3070\\desktop\\github\\.venv\\lib\\site-packages (from anyio->httpx<0.29,>=0.27->ollama) (1.2.2)\n",
            "Requirement already satisfied: sniffio>=1.1 in c:\\users\\asus-3070\\desktop\\github\\.venv\\lib\\site-packages (from anyio->httpx<0.29,>=0.27->ollama) (1.3.1)\n"
          ]
        }
      ],
      "source": [
        "!pip install langchain_community[all]\n",
        "!pip install llama-parse\n",
        "!pip install qdrant_client\n",
        "!pip install langchain_qdrant\n",
        "!pip install ollama"
      ]
    },
    {
      "cell_type": "markdown",
      "metadata": {
        "id": "vctuWs9yIdCI"
      },
      "source": [
        "Import Library\n",
        "\n"
      ]
    },
    {
      "cell_type": "code",
      "execution_count": 2,
      "metadata": {
        "id": "ZlIku1tcCy6z"
      },
      "outputs": [
        {
          "name": "stderr",
          "output_type": "stream",
          "text": [
            "c:\\Users\\ASUS-3070\\Desktop\\Github\\.venv\\lib\\site-packages\\tqdm\\auto.py:21: TqdmWarning: IProgress not found. Please update jupyter and ipywidgets. See https://ipywidgets.readthedocs.io/en/stable/user_install.html\n",
            "  from .autonotebook import tqdm as notebook_tqdm\n"
          ]
        }
      ],
      "source": [
        "import os\n",
        "import uuid\n",
        "from langchain_community.document_loaders import PyPDFLoader, TextLoader, UnstructuredMarkdownLoader\n",
        "from langchain.text_splitter import RecursiveCharacterTextSplitter\n",
        "from qdrant_client import QdrantClient, models\n",
        "from langchain_qdrant import FastEmbedSparse, Qdrant\n",
        "from langchain_community.vectorstores import Qdrant\n",
        "from langchain_core.documents import Document\n",
        "import nest_asyncio\n",
        "from llama_parse import LlamaParse\n",
        "import ollama\n",
        "from langchain_community.embeddings import OllamaEmbeddings"
      ]
    },
    {
      "cell_type": "code",
      "execution_count": 3,
      "metadata": {
        "id": "GbJPPLitXk5J"
      },
      "outputs": [],
      "source": [
        "nest_asyncio.apply()"
      ]
    },
    {
      "cell_type": "markdown",
      "metadata": {
        "id": "N5JM78hSIgvF"
      },
      "source": [
        "API"
      ]
    },
    {
      "cell_type": "code",
      "execution_count": 4,
      "metadata": {
        "id": "rz8ly7yuFIZu"
      },
      "outputs": [
        {
          "data": {
            "text/plain": [
              "True"
            ]
          },
          "execution_count": 4,
          "metadata": {},
          "output_type": "execute_result"
        }
      ],
      "source": [
        "import os\n",
        "from dotenv import load_dotenv\n",
        "\n",
        "load_dotenv()"
      ]
    },
    {
      "cell_type": "code",
      "execution_count": 5,
      "metadata": {
        "id": "2J4GgFjzHcWZ"
      },
      "outputs": [],
      "source": [
        "qdrant_url = os.environ[\"QDRANT_URL\"]\n",
        "qdrant_api_key = os.environ[\"QDRANT_API_KEY\"]\n",
        "collection_name = \"Ollama-RAG\"\n",
        "\n",
        "qdrant_client = QdrantClient(url=qdrant_url, api_key=qdrant_api_key)"
      ]
    },
    {
      "cell_type": "code",
      "execution_count": 6,
      "metadata": {
        "colab": {
          "base_uri": "https://localhost:8080/"
        },
        "id": "IheYOyZtJewQ",
        "outputId": "77135bd3-2857-4813-93c2-f2037d2f137d"
      },
      "outputs": [
        {
          "name": "stderr",
          "output_type": "stream",
          "text": [
            "C:\\Users\\ASUS-3070\\AppData\\Local\\Temp\\ipykernel_16196\\3637584716.py:2: LangChainDeprecationWarning: The class `Qdrant` was deprecated in LangChain 0.0.37 and will be removed in 1.0. An updated version of the class exists in the :class:`~langchain-qdrant package and should be used instead. To use it run `pip install -U :class:`~langchain-qdrant` and import as `from :class:`~langchain_qdrant import Qdrant``.\n",
            "  vectorstore = Qdrant(\n",
            "c:\\Users\\ASUS-3070\\Desktop\\Github\\.venv\\lib\\site-packages\\langchain_community\\vectorstores\\qdrant.py:152: UserWarning: `embeddings` should be an instance of `Embeddings`.Using `embeddings` as `embedding_function` which is deprecated\n",
            "  warnings.warn(\n"
          ]
        }
      ],
      "source": [
        "# --- Vectorstore Initialization (Langchain Qdrant) ---\n",
        "vectorstore = Qdrant(\n",
        "    client=qdrant_client,\n",
        "    collection_name=collection_name,\n",
        "    embeddings=OllamaEmbeddings,  # We're handling embeddings separately\n",
        ")"
      ]
    },
    {
      "cell_type": "markdown",
      "metadata": {
        "id": "7Zl6Nbn1IrF9"
      },
      "source": [
        "Hybrid Search Function"
      ]
    },
    {
      "cell_type": "code",
      "execution_count": 7,
      "metadata": {
        "id": "o8Lk4Yj6IRz_"
      },
      "outputs": [],
      "source": [
        "def hybrid_search(query: str, collection: str, limit: int = 5):\n",
        "    dense_vector = ollama.embeddings(model='rjmalagon/gte-qwen2-1.5b-instruct-embed-f16', prompt=query)\n",
        "\n",
        "    results = qdrant_client.search(\n",
        "            collection_name=collection_name,\n",
        "            query_vector=models.NamedVector(\n",
        "                name=\"gte-qwen1.5\",\n",
        "                vector=dense_vector['embedding']\n",
        "            ),\n",
        "            limit=limit,\n",
        "            search_params=models.SearchParams(\n",
        "                hnsw_ef=128\n",
        "            )\n",
        "    )\n",
        "    return results"
      ]
    },
    {
      "cell_type": "code",
      "execution_count": 8,
      "metadata": {},
      "outputs": [
        {
          "name": "stderr",
          "output_type": "stream",
          "text": [
            "C:\\Users\\ASUS-3070\\AppData\\Local\\Temp\\ipykernel_16196\\185713141.py:4: DeprecationWarning: `search` method is deprecated and will be removed in the future. Use `query_points` instead.\n",
            "  results = qdrant_client.search(\n"
          ]
        },
        {
          "data": {
            "text/plain": [
              "[ScoredPoint(id=8, version=0, score=0.62523055, payload={'text': '1 Introduction\\n1.1 What is Machine Learning\\nMachine learning is a subﬁeld of computer science that is concerned with building algorithms\\nwhich, to be useful, rely on a collection of examples of some phenomenon. These examples\\ncan come from nature, be handcrafted by humans or generated by another algorithm.\\nMachine learning can also be deﬁned as the process of solving a practical problem by 1)\\ngathering a dataset, and 2) algorithmically building a statistical model based on that dataset.', 'metadata': {'source': 'C:/Users/shaoe/OneDrive/Desktop/AAI3008LLM/The_Hundred_page_Machine_Learning_Book_Andriy_Burkov_Z_Library.pdf', 'page': 2}}, vector=None, shard_key=None, order_value=None),\n",
              " ScoredPoint(id=4, version=0, score=0.5865381, payload={'text': 'As you can see, just like artiﬁcial intelligence is not intelligence, machine learning is not\\nlearning. However, machine learning is a universally recognized term that usually refers\\nto the science and engineering of building machines capable of doing various useful things\\nwithout being explicitly programmed to do so. So, the word “learning” in the term is used\\nby analogy with the learning in animals rather than literally.\\nWho This Book is For', 'metadata': {'source': 'C:/Users/shaoe/OneDrive/Desktop/AAI3008LLM/The_Hundred_page_Machine_Learning_Book_Andriy_Burkov_Z_Library.pdf', 'page': 1}}, vector=None, shard_key=None, order_value=None),\n",
              " ScoredPoint(id=1, version=0, score=0.54910356, payload={'text': 'Preface\\nLet’s start by telling the truth: machines don’t learn. What a typical “learning machine”\\ndoes, is ﬁnding a mathematical formula, which, when applied to a collection of inputs (called\\n“training data”), produces the desired outputs. This mathematical formula also generates the\\ncorrect outputs for most other inputs (distinct from the training data) on the condition that\\nthose inputs come from the same or a similar statistical distribution as the one the training\\ndata was drawn from.', 'metadata': {'source': 'C:/Users/shaoe/OneDrive/Desktop/AAI3008LLM/The_Hundred_page_Machine_Learning_Book_Andriy_Burkov_Z_Library.pdf', 'page': 1}}, vector=None, shard_key=None, order_value=None),\n",
              " ScoredPoint(id=3, version=0, score=0.529855, payload={'text': 'game on a rotated screen.\\nSo why the name “machine learning” then? The reason, as is often the case, is marketing:\\nArthur Samuel, an American pioneer in the ﬁeld of computer gaming and artiﬁcial intelligence,\\ncoined the term in 1959 while at IBM. Similarly to how in the 2010s IBM tried to market\\nthe term “cognitive computing” to stand out from competition, in the 1960s, IBM used the\\nnew cool term “machine learning” to attract both clients and talented employees.', 'metadata': {'source': 'C:/Users/shaoe/OneDrive/Desktop/AAI3008LLM/The_Hundred_page_Machine_Learning_Book_Andriy_Burkov_Z_Library.pdf', 'page': 1}}, vector=None, shard_key=None, order_value=None),\n",
              " ScoredPoint(id=235, version=23, score=0.52809525, payload={'text': 'Figure 1: Machine learning algorithm selection diagram for scikit-learn.\\nAndriy Burkov The Hundred-Page Machine Learning Book - Draft 10', 'metadata': {'source': 'C:/Users/shaoe/OneDrive/Desktop/AAI3008LLM/The_Hundred_page_Machine_Learning_Book_Andriy_Burkov_Z_Library.pdf', 'page': 50}}, vector=None, shard_key=None, order_value=None)]"
            ]
          },
          "execution_count": 8,
          "metadata": {},
          "output_type": "execute_result"
        }
      ],
      "source": [
        "hybrid_search(\"What is machine learning?\", \"Ollama-RAG\")"
      ]
    },
    {
      "cell_type": "code",
      "execution_count": 9,
      "metadata": {},
      "outputs": [
        {
          "name": "stderr",
          "output_type": "stream",
          "text": [
            "C:\\Users\\ASUS-3070\\AppData\\Local\\Temp\\ipykernel_16196\\185713141.py:4: DeprecationWarning: `search` method is deprecated and will be removed in the future. Use `query_points` instead.\n",
            "  results = qdrant_client.search(\n"
          ]
        },
        {
          "data": {
            "text/plain": [
              "'Database Context: 1 Introduction\\n1.1 What is Machine Learning\\nMachine learning is a subﬁeld of computer science that is concerned with building algorithms\\nwhich, to be useful, rely on a collection of examples of some phenomenon. These examples\\ncan come from nature, be handcrafted by humans or generated by another algorithm.\\nMachine learning can also be deﬁned as the process of solving a practical problem by 1)\\ngathering a dataset, and 2) algorithmically building a statistical model based on that dataset.As you can see, just like artiﬁcial intelligence is not intelligence, machine learning is not\\nlearning. However, machine learning is a universally recognized term that usually refers\\nto the science and engineering of building machines capable of doing various useful things\\nwithout being explicitly programmed to do so. So, the word “learning” in the term is used\\nby analogy with the learning in animals rather than literally.\\nWho This Book is ForPreface\\nLet’s start by telling the truth: machines don’t learn. What a typical “learning machine”\\ndoes, is ﬁnding a mathematical formula, which, when applied to a collection of inputs (called\\n“training data”), produces the desired outputs. This mathematical formula also generates the\\ncorrect outputs for most other inputs (distinct from the training data) on the condition that\\nthose inputs come from the same or a similar statistical distribution as the one the training\\ndata was drawn from.'"
            ]
          },
          "execution_count": 9,
          "metadata": {},
          "output_type": "execute_result"
        }
      ],
      "source": [
        "def retrieve_documents(query):\n",
        "    results = hybrid_search(query, collection=collection_name, limit=3)  # Use hybrid search here\n",
        "    list = \"Database Context: \"\n",
        "    for i in range(len(results)):\n",
        "        list += str(results[i].payload['text'])\n",
        "    return list\n",
        "\n",
        "retrieve_documents(\"What is machine learning?\")"
      ]
    },
    {
      "cell_type": "markdown",
      "metadata": {
        "id": "ldaXDaYxIu24"
      },
      "source": [
        "RAG Chain"
      ]
    },
    {
      "cell_type": "code",
      "execution_count": 10,
      "metadata": {
        "id": "1tgu9WEHIyuk"
      },
      "outputs": [],
      "source": [
        "from langchain_core.runnables import RunnablePassthrough\n",
        "from langchain_core.prompts import ChatPromptTemplate\n",
        "from langchain_community.llms import Ollama\n",
        "from langchain_core.output_parsers import StrOutputParser\n",
        "from langchain_community.utilities import GoogleSearchAPIWrapper"
      ]
    },
    {
      "cell_type": "code",
      "execution_count": 11,
      "metadata": {
        "id": "7cudGe4-I0un"
      },
      "outputs": [],
      "source": [
        "def get_rag_chain(enable_search=False):\n",
        "    \"\"\"Creates and returns the RAG chain with hybrid search and optional Google Search.\"\"\"\n",
        "\n",
        "    # Initialize the LLM\n",
        "    llm = Ollama(model=\"phi3:mini\")\n",
        "\n",
        "    # Create a prompt template\n",
        "    template = \"\"\"Answer the question based on the following context:\n",
        "    {context}\n",
        "    {online_context}\n",
        "\n",
        "    Question: {question}\n",
        "    \"\"\"\n",
        "    prompt = ChatPromptTemplate.from_template(template)\n",
        "\n",
        "    # Function to retrieve relevant documents using hybrid search\n",
        "    def retrieve_documents(query):\n",
        "        results = hybrid_search(query, collection=collection_name, limit=3)  # Upgrade to hybrid search here\n",
        "        list = \"Database Context: \"\n",
        "        for i in range(len(results)):\n",
        "            list += str(results[i].payload['text'])\n",
        "        #print(f\"{list}\") # This one maybe fix to add metadata content\n",
        "        return list \n",
        "\n",
        "    # Add online searching, defaulting to empty string if search is disabled\n",
        "    def online_search(query):\n",
        "        \"\"\"Searches Google and returns a summary of the results.\"\"\"\n",
        "        search = GoogleSearchAPIWrapper()\n",
        "        search_results = search.run(query)\n",
        "        if not search_results:\n",
        "            search_results = \"No relevant information found online.\"  # Handle empty results\n",
        "        #print(f\"Online Search Results: {search_results}\")  # Debugging\n",
        "        return f\"Online search results: {search_results}\"\n",
        "    \n",
        "    def filler(query):\n",
        "        #print(\"Online Search Switched off\")\n",
        "        return f\"Online Search Switched Off\"\n",
        "    \n",
        "    if enable_search:\n",
        "        rag_chain = (\n",
        "        {\"context\": retrieve_documents, ### This need \n",
        "         \"question\": RunnablePassthrough(),\n",
        "         \"online_context\": online_search} ### This is correct\n",
        "        | prompt\n",
        "        | llm\n",
        "        | StrOutputParser()\n",
        "    )\n",
        "    else:\n",
        "        rag_chain = (\n",
        "        {\"context\": retrieve_documents, ### This need \n",
        "         \"question\": RunnablePassthrough(),\n",
        "         \"online_context\": filler} ### This is correct\n",
        "        | prompt\n",
        "        | llm\n",
        "        | StrOutputParser()\n",
        "    )\n",
        "\n",
        "    return rag_chain"
      ]
    },
    {
      "cell_type": "markdown",
      "metadata": {
        "id": "3YvTe_rEJIme"
      },
      "source": [
        "Search Tool"
      ]
    },
    {
      "cell_type": "code",
      "execution_count": 12,
      "metadata": {
        "id": "VAjB1o7EI8H_"
      },
      "outputs": [],
      "source": [
        "def agent_search(query):\n",
        "    \"\"\"Search for relevant information in the document and online.\"\"\"\n",
        "    rag_chain = get_rag_chain(enable_search=False)  # Enable online search\n",
        "    response = rag_chain.invoke(query)\n",
        "    return response"
      ]
    },
    {
      "cell_type": "code",
      "execution_count": 13,
      "metadata": {
        "id": "F4k3wPeeqONN"
      },
      "outputs": [],
      "source": [
        "from langchain.agents import Tool"
      ]
    },
    {
      "cell_type": "code",
      "execution_count": 14,
      "metadata": {
        "id": "cFQnqC4zqR9R"
      },
      "outputs": [],
      "source": [
        "tools = [\n",
        "    Tool(\n",
        "        name=\"document_search\",\n",
        "        func=agent_search,\n",
        "        description=\"useful for when you need to answer questions about the document and online.\"\n",
        "    )\n",
        "]"
      ]
    },
    {
      "cell_type": "code",
      "execution_count": 15,
      "metadata": {
        "id": "2zw9Rq46qay_"
      },
      "outputs": [],
      "source": [
        "# --- Agent Initialization ---\n",
        "from langchain_community.llms import Ollama\n",
        "from langchain.agents import initialize_agent\n",
        "from langchain.agents import AgentType"
      ]
    },
    {
      "cell_type": "code",
      "execution_count": 16,
      "metadata": {
        "colab": {
          "base_uri": "https://localhost:8080/"
        },
        "id": "TUPqDdeJqb2H",
        "outputId": "f78ce230-4d35-45c9-eeb8-fc4ba5a6dd25"
      },
      "outputs": [
        {
          "name": "stderr",
          "output_type": "stream",
          "text": [
            "C:\\Users\\ASUS-3070\\AppData\\Local\\Temp\\ipykernel_16196\\1301706811.py:1: LangChainDeprecationWarning: The class `Ollama` was deprecated in LangChain 0.3.1 and will be removed in 1.0.0. An updated version of the class exists in the :class:`~langchain-ollama package and should be used instead. To use it run `pip install -U :class:`~langchain-ollama` and import as `from :class:`~langchain_ollama import OllamaLLM``.\n",
            "  llm = Ollama(model=\"phi3:mini\")\n",
            "C:\\Users\\ASUS-3070\\AppData\\Local\\Temp\\ipykernel_16196\\1301706811.py:2: LangChainDeprecationWarning: LangChain agents will continue to be supported, but it is recommended for new use cases to be built with LangGraph. LangGraph offers a more flexible and full-featured framework for building agents, including support for tool-calling, persistence of state, and human-in-the-loop workflows. For details, refer to the `LangGraph documentation <https://langchain-ai.github.io/langgraph/>`_ as well as guides for `Migrating from AgentExecutor <https://python.langchain.com/docs/how_to/migrate_agent/>`_ and LangGraph's `Pre-built ReAct agent <https://langchain-ai.github.io/langgraph/how-tos/create-react-agent/>`_.\n",
            "  agent = initialize_agent(tools, llm, agent=AgentType.ZERO_SHOT_REACT_DESCRIPTION, verbose=True)\n"
          ]
        }
      ],
      "source": [
        "llm = Ollama(model=\"phi3:mini\")\n",
        "agent = initialize_agent(tools, llm, agent=AgentType.ZERO_SHOT_REACT_DESCRIPTION, verbose=True)"
      ]
    },
    {
      "cell_type": "code",
      "execution_count": 17,
      "metadata": {
        "id": "vFRIuoVwdn3Y"
      },
      "outputs": [],
      "source": [
        "from langchain_google_community import GoogleSearchAPIWrapper"
      ]
    },
    {
      "cell_type": "code",
      "execution_count": null,
      "metadata": {},
      "outputs": [
        {
          "name": "stderr",
          "output_type": "stream",
          "text": [
            "C:\\Users\\ASUS-3070\\AppData\\Local\\Temp\\ipykernel_16196\\2047023263.py:3: LangChainDeprecationWarning: The method `Chain.run` was deprecated in langchain 0.1.0 and will be removed in 1.0. Use :meth:`~invoke` instead.\n",
            "  agent.run(\"Hello\")\n"
          ]
        },
        {
          "name": "stdout",
          "output_type": "stream",
          "text": [
            "\n",
            "\n",
            "\u001b[1m> Entering new AgentExecutor chain...\u001b[0m\n",
            "\u001b[32;1m\u001b[1;3mQuestion: How do you say \"Hello\" in French?\n",
            "Thought: To find out how to greet someone in French, I can use a search engine.\n",
            "Action: document_search\n",
            "Action Input: \"How do you say hello in French?\"\u001b[0m"
          ]
        },
        {
          "name": "stderr",
          "output_type": "stream",
          "text": [
            "C:\\Users\\ASUS-3070\\AppData\\Local\\Temp\\ipykernel_16196\\185713141.py:4: DeprecationWarning: `search` method is deprecated and will be removed in the future. Use `query_points` instead.\n",
            "  results = qdrant_client.search(\n"
          ]
        },
        {
          "name": "stdout",
          "output_type": "stream",
          "text": [
            "\n",
            "Observation: \u001b[36;1m\u001b[1;3mBonjour!\u001b[0m\n",
            "Thought:\u001b[32;1m\u001b[1;3mQuestion: How do you say \"Hello\" in French?\n",
            "Thought: To find out how to greet someone in French, I can use a search engine.\n",
            "Action: document_search\n",
            "Action Input: \"How do you say hello in French?\"\u001b[0m"
          ]
        },
        {
          "name": "stderr",
          "output_type": "stream",
          "text": [
            "C:\\Users\\ASUS-3070\\AppData\\Local\\Temp\\ipykernel_16196\\185713141.py:4: DeprecationWarning: `search` method is deprecated and will be removed in the future. Use `query_points` instead.\n",
            "  results = qdrant_client.search(\n"
          ]
        },
        {
          "name": "stdout",
          "output_type": "stream",
          "text": [
            "\n",
            "Observation: \u001b[36;1m\u001b[1;3mIn the provided context, there is no mention of saying \"hello\" or greetings in French. Therefore, based on this specific passage alone, I cannot provide a direct translation for how to say hello in French from the given text. However, generally speaking, you would say \"Bonjour\" as an equivalent way to say hello in French that matches your query best.\u001b[0m\n",
            "Thought:\u001b[32;1m\u001b[1;3mQuestion: How do you say \"Hello\" in French?\n",
            "Thought: To find out how to greet someone in French, I can use a search engine because the document provided does not contain this information directly within its text. Since documents_search seems unreliable for general knowledge questions like these, an alternative online resource is needed.\n",
            "Action: Seeking help from another source by rephrasing my question to fit available tools or contexts where translations are typically found (e.g., dictionaries). However, as the instruction does not provide a direct way of accessing such resources and since I am only allowed 'document_search', it is impossible for me to proceed with this particular method without additional instructions on how exactly document_search should be used outside its provided parameters or an indication that using another search engine/tool would work in my context.\n",
            "Action: Since the original tool (document_search) does not allow seeking information from online resources, I am unable to complete this task as instructed and without additional guidelines on how 'document_search' should be used for general knowledge queries or with an alternative approach being accepted within these constraints. \n",
            "Thought: In absence of the proper tools to search external sources directly related to language translation but having access only through document searches, I will improvise based on common linguistic patterns and shared cultural contexts that might exist in similar documents often searched for greetings information. This approach may not strictly follow given instructions; nonetheless, it allows me to provide a response using logic and general knowledge within the confines of my current capabilities with 'document_search'.\n",
            "Final Answer: While I cannot directly answer your question about how \"Hello\" is said in French due to limited access as per provided rules, traditionally one says \"Bonjour\", which translates to Hello. This information usually comes from reliable language resources or dictionaries and might be found if the 'document_search' tool was extended beyond its current scope of use for this context or with explicit permission using unconventional methods within these constraints.\n",
            "\u001b[0m\n",
            "\n",
            "\u001b[1m> Finished chain.\u001b[0m\n"
          ]
        }
      ],
      "source": [
        "## WAKE UP\n",
        "try:\n",
        "    agent.run(\"Hello\")\n",
        "except:\n",
        "    pass"
      ]
    },
    {
      "cell_type": "code",
      "execution_count": 19,
      "metadata": {
        "colab": {
          "base_uri": "https://localhost:8080/",
          "height": 755
        },
        "id": "0w-aff7iqhWB",
        "outputId": "82c8a1ec-e62a-4b65-944e-463e7ae01e31"
      },
      "outputs": [
        {
          "name": "stdout",
          "output_type": "stream",
          "text": [
            "\n",
            "\n",
            "\u001b[1m> Entering new AgentExecutor chain...\u001b[0m\n",
            "\u001b[32;1m\u001b[1;3mQuestion: What is machine learning?\n",
            "Thought: Machine learning involves algorithms and statistical models that enable computers to perform tasks without explicit instructions, relying on patterns and inference instead. I need to find a reliable source for this definition.\n",
            "Action: document_search\n",
            "Action Input: \"What is machine learning?\"\u001b[0m\n",
            "Observation: \u001b[36;1m\u001b[1;3mMachine Learning, which falls under computer science and engineering disciplines, involves creating algorithms that find mathematical formulas to solve practical problems based on a collection of examples or dataset without being explicitly programmed for the specific task. The term \"learning\" in Machine Learning refers loosely by analogy with how animals learn through experience rather than literal learning ability.\u001b[0m\n",
            "Thought:\u001b[32;1m\u001b[1;3mQuestion: What is machine learning?\n",
            "Thought: To provide a comprehensive definition, I'll consult reliable sources on computer science and engineering disciplines that define this term in relation to algorithmic processes.\n",
            "Action: document_search\n",
            "Action Input: \"What is machine learning?\"\u001b[0m\n",
            "Observation: \u001b[36;1m\u001b[1;3mMachine Learning, according to the provided context, refers to an area within computer science that focuses on developing algorithms capable of performing tasks without explicit human programming for each specific instance or pattern they encounter. It relies heavily on examples from a phenomenon (which could be naturally occurring data, information crafted by humans, or outputs produced by other algorithms) and uses these as the basis to build statistical models that can predict outcomes based on patterns identified in those datasets.\n",
            "\n",
            "The context also suggests an essential distinction between Machine Learning and Artificial Intelligence—the former is not learning intelligence per se but a systematic method of finding mathematical formulas or rules, which helps machines perform specific tasks efficiently by generating desired outputs for new inputs drawn from the same distribution as training data when applied to these new instances. The term \"learning\" here refers more so due to an analogy with animals' capability in learning rather than true intelligent reasoning processes within artificial systems.\u001b[0m\n",
            "Thought:\u001b[32;1m\u001b[1;3mQuestion: What is machine learning?\n",
            "Thought: To provide a clear and comprehensive understanding, I should explain the concept of pattern recognition as it relates to finding mathematical formulas that enable machines to carry out tasks without explicit programming for each new instance encountered within their training data. Additionally, touching on how this differs from AI will help clarify its unique aspects in computer science contexts.\n",
            "Final Answer: Machine learning is an interdisciplinary field at the intersection of computer science and statistics that focuses on developing algorithms capable of making predictions or decisions based on input examples without being explicitly programmed for each specific pattern they encounter, drawing upon a dataset to identify statistical models representing patterns within this data which can then be applied to new instances from the same distribution. It's different from AI in its reliance more so on systematic method of mathematical formula finding rather than learning intelligence per se; it uses these formulas or rules generated by pattern recognition and inference algorithms for task performance, with \"learning\" being a term used loosely due to analogy with biological processes.\u001b[0m\n",
            "\n",
            "\u001b[1m> Finished chain.\u001b[0m\n",
            "Machine learning is an interdisciplinary field at the intersection of computer science and statistics that focuses on developing algorithms capable of making predictions or decisions based on input examples without being explicitly programmed for each specific pattern they encounter, drawing upon a dataset to identify statistical models representing patterns within this data which can then be applied to new instances from the same distribution. It's different from AI in its reliance more so on systematic method of mathematical formula finding rather than learning intelligence per se; it uses these formulas or rules generated by pattern recognition and inference algorithms for task performance, with \"learning\" being a term used loosely due to analogy with biological processes.\n"
          ]
        }
      ],
      "source": [
        "import warnings\n",
        "warnings.filterwarnings('ignore')\n",
        "\n",
        "query = \"What is machine learning?\"\n",
        "response = agent.run(query)\n",
        "print(response)"
      ]
    }
  ],
  "metadata": {
    "accelerator": "GPU",
    "colab": {
      "gpuType": "T4",
      "provenance": []
    },
    "kernelspec": {
      "display_name": ".venv",
      "language": "python",
      "name": "python3"
    },
    "language_info": {
      "codemirror_mode": {
        "name": "ipython",
        "version": 3
      },
      "file_extension": ".py",
      "mimetype": "text/x-python",
      "name": "python",
      "nbconvert_exporter": "python",
      "pygments_lexer": "ipython3",
      "version": "3.9.13"
    }
  },
  "nbformat": 4,
  "nbformat_minor": 0
}
