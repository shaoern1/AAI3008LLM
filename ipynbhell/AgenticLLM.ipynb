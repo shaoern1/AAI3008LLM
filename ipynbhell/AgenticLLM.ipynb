{
  "cells": [
    {
      "cell_type": "code",
      "execution_count": 62,
      "metadata": {
        "colab": {
          "base_uri": "https://localhost:8080/"
        },
        "id": "BLC9TWvmDUdz",
        "outputId": "8f8d6fe2-8425-4245-ea66-4d6a4b0bddeb"
      },
      "outputs": [
        {
          "name": "stdout",
          "output_type": "stream",
          "text": [
            "Requirement already satisfied: langchain_community[all] in c:\\users\\linus\\appdata\\local\\programs\\python\\python311\\lib\\site-packages (0.3.18)\n",
            "Requirement already satisfied: langchain-core<1.0.0,>=0.3.37 in c:\\users\\linus\\appdata\\local\\programs\\python\\python311\\lib\\site-packages (from langchain_community[all]) (0.3.39)\n",
            "Requirement already satisfied: langchain<1.0.0,>=0.3.19 in c:\\users\\linus\\appdata\\local\\programs\\python\\python311\\lib\\site-packages (from langchain_community[all]) (0.3.19)\n",
            "Requirement already satisfied: SQLAlchemy<3,>=1.4 in c:\\users\\linus\\appdata\\local\\programs\\python\\python311\\lib\\site-packages (from langchain_community[all]) (2.0.38)\n",
            "Requirement already satisfied: requests<3,>=2 in c:\\users\\linus\\appdata\\local\\programs\\python\\python311\\lib\\site-packages (from langchain_community[all]) (2.32.3)\n",
            "Requirement already satisfied: PyYAML>=5.3 in c:\\users\\linus\\appdata\\local\\programs\\python\\python311\\lib\\site-packages (from langchain_community[all]) (6.0.2)\n",
            "Requirement already satisfied: aiohttp<4.0.0,>=3.8.3 in c:\\users\\linus\\appdata\\local\\programs\\python\\python311\\lib\\site-packages (from langchain_community[all]) (3.11.13)\n",
            "Requirement already satisfied: tenacity!=8.4.0,<10,>=8.1.0 in c:\\users\\linus\\appdata\\local\\programs\\python\\python311\\lib\\site-packages (from langchain_community[all]) (9.0.0)\n",
            "Requirement already satisfied: dataclasses-json<0.7,>=0.5.7 in c:\\users\\linus\\appdata\\local\\programs\\python\\python311\\lib\\site-packages (from langchain_community[all]) (0.6.7)\n",
            "Requirement already satisfied: pydantic-settings<3.0.0,>=2.4.0 in c:\\users\\linus\\appdata\\local\\programs\\python\\python311\\lib\\site-packages (from langchain_community[all]) (2.8.0)\n",
            "Requirement already satisfied: langsmith<0.4,>=0.1.125 in c:\\users\\linus\\appdata\\local\\programs\\python\\python311\\lib\\site-packages (from langchain_community[all]) (0.3.11)\n",
            "Requirement already satisfied: httpx-sse<1.0.0,>=0.4.0 in c:\\users\\linus\\appdata\\local\\programs\\python\\python311\\lib\\site-packages (from langchain_community[all]) (0.4.0)\n",
            "Requirement already satisfied: numpy<2,>=1.26.4 in c:\\users\\linus\\appdata\\local\\programs\\python\\python311\\lib\\site-packages (from langchain_community[all]) (1.26.4)\n",
            "Requirement already satisfied: aiohappyeyeballs>=2.3.0 in c:\\users\\linus\\appdata\\local\\programs\\python\\python311\\lib\\site-packages (from aiohttp<4.0.0,>=3.8.3->langchain_community[all]) (2.4.6)\n",
            "Requirement already satisfied: aiosignal>=1.1.2 in c:\\users\\linus\\appdata\\local\\programs\\python\\python311\\lib\\site-packages (from aiohttp<4.0.0,>=3.8.3->langchain_community[all]) (1.3.2)\n",
            "Requirement already satisfied: attrs>=17.3.0 in c:\\users\\linus\\appdata\\local\\programs\\python\\python311\\lib\\site-packages (from aiohttp<4.0.0,>=3.8.3->langchain_community[all]) (25.1.0)\n",
            "Requirement already satisfied: frozenlist>=1.1.1 in c:\\users\\linus\\appdata\\local\\programs\\python\\python311\\lib\\site-packages (from aiohttp<4.0.0,>=3.8.3->langchain_community[all]) (1.5.0)\n",
            "Requirement already satisfied: multidict<7.0,>=4.5 in c:\\users\\linus\\appdata\\local\\programs\\python\\python311\\lib\\site-packages (from aiohttp<4.0.0,>=3.8.3->langchain_community[all]) (6.1.0)\n",
            "Requirement already satisfied: propcache>=0.2.0 in c:\\users\\linus\\appdata\\local\\programs\\python\\python311\\lib\\site-packages (from aiohttp<4.0.0,>=3.8.3->langchain_community[all]) (0.3.0)\n",
            "Requirement already satisfied: yarl<2.0,>=1.17.0 in c:\\users\\linus\\appdata\\local\\programs\\python\\python311\\lib\\site-packages (from aiohttp<4.0.0,>=3.8.3->langchain_community[all]) (1.18.3)\n",
            "Requirement already satisfied: marshmallow<4.0.0,>=3.18.0 in c:\\users\\linus\\appdata\\local\\programs\\python\\python311\\lib\\site-packages (from dataclasses-json<0.7,>=0.5.7->langchain_community[all]) (3.26.1)\n",
            "Requirement already satisfied: typing-inspect<1,>=0.4.0 in c:\\users\\linus\\appdata\\local\\programs\\python\\python311\\lib\\site-packages (from dataclasses-json<0.7,>=0.5.7->langchain_community[all]) (0.9.0)\n",
            "Requirement already satisfied: langchain-text-splitters<1.0.0,>=0.3.6 in c:\\users\\linus\\appdata\\local\\programs\\python\\python311\\lib\\site-packages (from langchain<1.0.0,>=0.3.19->langchain_community[all]) (0.3.6)\n",
            "Requirement already satisfied: pydantic<3.0.0,>=2.7.4 in c:\\users\\linus\\appdata\\local\\programs\\python\\python311\\lib\\site-packages (from langchain<1.0.0,>=0.3.19->langchain_community[all]) (2.10.6)\n",
            "Requirement already satisfied: jsonpatch<2.0,>=1.33 in c:\\users\\linus\\appdata\\local\\programs\\python\\python311\\lib\\site-packages (from langchain-core<1.0.0,>=0.3.37->langchain_community[all]) (1.33)\n",
            "Requirement already satisfied: packaging<25,>=23.2 in c:\\users\\linus\\appdata\\roaming\\python\\python311\\site-packages (from langchain-core<1.0.0,>=0.3.37->langchain_community[all]) (24.2)\n",
            "Requirement already satisfied: typing-extensions>=4.7 in c:\\users\\linus\\appdata\\roaming\\python\\python311\\site-packages (from langchain-core<1.0.0,>=0.3.37->langchain_community[all]) (4.12.2)\n",
            "Requirement already satisfied: httpx<1,>=0.23.0 in c:\\users\\linus\\appdata\\local\\programs\\python\\python311\\lib\\site-packages (from langsmith<0.4,>=0.1.125->langchain_community[all]) (0.28.1)\n",
            "Requirement already satisfied: orjson<4.0.0,>=3.9.14 in c:\\users\\linus\\appdata\\local\\programs\\python\\python311\\lib\\site-packages (from langsmith<0.4,>=0.1.125->langchain_community[all]) (3.10.15)\n",
            "Requirement already satisfied: requests-toolbelt<2.0.0,>=1.0.0 in c:\\users\\linus\\appdata\\local\\programs\\python\\python311\\lib\\site-packages (from langsmith<0.4,>=0.1.125->langchain_community[all]) (1.0.0)\n",
            "Requirement already satisfied: zstandard<0.24.0,>=0.23.0 in c:\\users\\linus\\appdata\\local\\programs\\python\\python311\\lib\\site-packages (from langsmith<0.4,>=0.1.125->langchain_community[all]) (0.23.0)\n",
            "Requirement already satisfied: python-dotenv>=0.21.0 in c:\\users\\linus\\appdata\\local\\programs\\python\\python311\\lib\\site-packages (from pydantic-settings<3.0.0,>=2.4.0->langchain_community[all]) (1.0.1)\n",
            "Requirement already satisfied: charset-normalizer<4,>=2 in c:\\users\\linus\\appdata\\local\\programs\\python\\python311\\lib\\site-packages (from requests<3,>=2->langchain_community[all]) (3.4.1)\n",
            "Requirement already satisfied: idna<4,>=2.5 in c:\\users\\linus\\appdata\\local\\programs\\python\\python311\\lib\\site-packages (from requests<3,>=2->langchain_community[all]) (3.10)\n",
            "Requirement already satisfied: urllib3<3,>=1.21.1 in c:\\users\\linus\\appdata\\local\\programs\\python\\python311\\lib\\site-packages (from requests<3,>=2->langchain_community[all]) (2.3.0)\n",
            "Requirement already satisfied: certifi>=2017.4.17 in c:\\users\\linus\\appdata\\local\\programs\\python\\python311\\lib\\site-packages (from requests<3,>=2->langchain_community[all]) (2025.1.31)\n",
            "Requirement already satisfied: greenlet!=0.4.17 in c:\\users\\linus\\appdata\\local\\programs\\python\\python311\\lib\\site-packages (from SQLAlchemy<3,>=1.4->langchain_community[all]) (3.1.1)\n",
            "Requirement already satisfied: anyio in c:\\users\\linus\\appdata\\local\\programs\\python\\python311\\lib\\site-packages (from httpx<1,>=0.23.0->langsmith<0.4,>=0.1.125->langchain_community[all]) (4.8.0)\n",
            "Requirement already satisfied: httpcore==1.* in c:\\users\\linus\\appdata\\local\\programs\\python\\python311\\lib\\site-packages (from httpx<1,>=0.23.0->langsmith<0.4,>=0.1.125->langchain_community[all]) (1.0.7)\n",
            "Requirement already satisfied: h11<0.15,>=0.13 in c:\\users\\linus\\appdata\\local\\programs\\python\\python311\\lib\\site-packages (from httpcore==1.*->httpx<1,>=0.23.0->langsmith<0.4,>=0.1.125->langchain_community[all]) (0.14.0)\n",
            "Requirement already satisfied: jsonpointer>=1.9 in c:\\users\\linus\\appdata\\local\\programs\\python\\python311\\lib\\site-packages (from jsonpatch<2.0,>=1.33->langchain-core<1.0.0,>=0.3.37->langchain_community[all]) (3.0.0)\n",
            "Requirement already satisfied: annotated-types>=0.6.0 in c:\\users\\linus\\appdata\\local\\programs\\python\\python311\\lib\\site-packages (from pydantic<3.0.0,>=2.7.4->langchain<1.0.0,>=0.3.19->langchain_community[all]) (0.7.0)\n",
            "Requirement already satisfied: pydantic-core==2.27.2 in c:\\users\\linus\\appdata\\local\\programs\\python\\python311\\lib\\site-packages (from pydantic<3.0.0,>=2.7.4->langchain<1.0.0,>=0.3.19->langchain_community[all]) (2.27.2)\n",
            "Requirement already satisfied: mypy-extensions>=0.3.0 in c:\\users\\linus\\appdata\\local\\programs\\python\\python311\\lib\\site-packages (from typing-inspect<1,>=0.4.0->dataclasses-json<0.7,>=0.5.7->langchain_community[all]) (1.0.0)\n",
            "Requirement already satisfied: sniffio>=1.1 in c:\\users\\linus\\appdata\\local\\programs\\python\\python311\\lib\\site-packages (from anyio->httpx<1,>=0.23.0->langsmith<0.4,>=0.1.125->langchain_community[all]) (1.3.1)\n"
          ]
        },
        {
          "name": "stderr",
          "output_type": "stream",
          "text": [
            "WARNING: langchain-community 0.3.18 does not provide the extra 'all'\n"
          ]
        },
        {
          "name": "stdout",
          "output_type": "stream",
          "text": [
            "Requirement already satisfied: llama-parse in c:\\users\\linus\\appdata\\local\\programs\\python\\python311\\lib\\site-packages (0.6.2)\n",
            "Requirement already satisfied: llama-cloud-services>=0.6.2 in c:\\users\\linus\\appdata\\local\\programs\\python\\python311\\lib\\site-packages (from llama-parse) (0.6.3)\n",
            "Requirement already satisfied: click<9.0.0,>=8.1.7 in c:\\users\\linus\\appdata\\local\\programs\\python\\python311\\lib\\site-packages (from llama-cloud-services>=0.6.2->llama-parse) (8.1.8)\n",
            "Requirement already satisfied: llama-cloud<0.2.0,>=0.1.11 in c:\\users\\linus\\appdata\\local\\programs\\python\\python311\\lib\\site-packages (from llama-cloud-services>=0.6.2->llama-parse) (0.1.13)\n",
            "Requirement already satisfied: llama-index-core>=0.11.0 in c:\\users\\linus\\appdata\\local\\programs\\python\\python311\\lib\\site-packages (from llama-cloud-services>=0.6.2->llama-parse) (0.12.22)\n",
            "Requirement already satisfied: pydantic!=2.10 in c:\\users\\linus\\appdata\\local\\programs\\python\\python311\\lib\\site-packages (from llama-cloud-services>=0.6.2->llama-parse) (2.10.6)\n",
            "Requirement already satisfied: python-dotenv<2.0.0,>=1.0.1 in c:\\users\\linus\\appdata\\local\\programs\\python\\python311\\lib\\site-packages (from llama-cloud-services>=0.6.2->llama-parse) (1.0.1)\n",
            "Requirement already satisfied: colorama in c:\\users\\linus\\appdata\\local\\programs\\python\\python311\\lib\\site-packages (from click<9.0.0,>=8.1.7->llama-cloud-services>=0.6.2->llama-parse) (0.4.6)\n",
            "Requirement already satisfied: certifi>=2024.7.4 in c:\\users\\linus\\appdata\\local\\programs\\python\\python311\\lib\\site-packages (from llama-cloud<0.2.0,>=0.1.11->llama-cloud-services>=0.6.2->llama-parse) (2025.1.31)\n",
            "Requirement already satisfied: httpx>=0.20.0 in c:\\users\\linus\\appdata\\local\\programs\\python\\python311\\lib\\site-packages (from llama-cloud<0.2.0,>=0.1.11->llama-cloud-services>=0.6.2->llama-parse) (0.28.1)\n",
            "Requirement already satisfied: PyYAML>=6.0.1 in c:\\users\\linus\\appdata\\local\\programs\\python\\python311\\lib\\site-packages (from llama-index-core>=0.11.0->llama-cloud-services>=0.6.2->llama-parse) (6.0.2)\n",
            "Requirement already satisfied: SQLAlchemy>=1.4.49 in c:\\users\\linus\\appdata\\local\\programs\\python\\python311\\lib\\site-packages (from SQLAlchemy[asyncio]>=1.4.49->llama-index-core>=0.11.0->llama-cloud-services>=0.6.2->llama-parse) (2.0.38)\n",
            "Requirement already satisfied: aiohttp<4.0.0,>=3.8.6 in c:\\users\\linus\\appdata\\local\\programs\\python\\python311\\lib\\site-packages (from llama-index-core>=0.11.0->llama-cloud-services>=0.6.2->llama-parse) (3.11.13)\n",
            "Requirement already satisfied: dataclasses-json in c:\\users\\linus\\appdata\\local\\programs\\python\\python311\\lib\\site-packages (from llama-index-core>=0.11.0->llama-cloud-services>=0.6.2->llama-parse) (0.6.7)\n",
            "Requirement already satisfied: deprecated>=1.2.9.3 in c:\\users\\linus\\appdata\\local\\programs\\python\\python311\\lib\\site-packages (from llama-index-core>=0.11.0->llama-cloud-services>=0.6.2->llama-parse) (1.2.18)\n",
            "Requirement already satisfied: dirtyjson<2.0.0,>=1.0.8 in c:\\users\\linus\\appdata\\local\\programs\\python\\python311\\lib\\site-packages (from llama-index-core>=0.11.0->llama-cloud-services>=0.6.2->llama-parse) (1.0.8)\n",
            "Requirement already satisfied: filetype<2.0.0,>=1.2.0 in c:\\users\\linus\\appdata\\local\\programs\\python\\python311\\lib\\site-packages (from llama-index-core>=0.11.0->llama-cloud-services>=0.6.2->llama-parse) (1.2.0)\n",
            "Requirement already satisfied: fsspec>=2023.5.0 in c:\\users\\linus\\appdata\\local\\programs\\python\\python311\\lib\\site-packages (from llama-index-core>=0.11.0->llama-cloud-services>=0.6.2->llama-parse) (2025.2.0)\n",
            "Requirement already satisfied: nest-asyncio<2.0.0,>=1.5.8 in c:\\users\\linus\\appdata\\roaming\\python\\python311\\site-packages (from llama-index-core>=0.11.0->llama-cloud-services>=0.6.2->llama-parse) (1.6.0)\n",
            "Requirement already satisfied: networkx>=3.0 in c:\\users\\linus\\appdata\\local\\programs\\python\\python311\\lib\\site-packages (from llama-index-core>=0.11.0->llama-cloud-services>=0.6.2->llama-parse) (3.4.2)\n",
            "Requirement already satisfied: nltk>3.8.1 in c:\\users\\linus\\appdata\\local\\programs\\python\\python311\\lib\\site-packages (from llama-index-core>=0.11.0->llama-cloud-services>=0.6.2->llama-parse) (3.9.1)\n",
            "Requirement already satisfied: numpy in c:\\users\\linus\\appdata\\local\\programs\\python\\python311\\lib\\site-packages (from llama-index-core>=0.11.0->llama-cloud-services>=0.6.2->llama-parse) (1.26.4)\n",
            "Requirement already satisfied: pillow>=9.0.0 in c:\\users\\linus\\appdata\\local\\programs\\python\\python311\\lib\\site-packages (from llama-index-core>=0.11.0->llama-cloud-services>=0.6.2->llama-parse) (10.4.0)\n",
            "Requirement already satisfied: requests>=2.31.0 in c:\\users\\linus\\appdata\\local\\programs\\python\\python311\\lib\\site-packages (from llama-index-core>=0.11.0->llama-cloud-services>=0.6.2->llama-parse) (2.32.3)\n",
            "Requirement already satisfied: tenacity!=8.4.0,<10.0.0,>=8.2.0 in c:\\users\\linus\\appdata\\local\\programs\\python\\python311\\lib\\site-packages (from llama-index-core>=0.11.0->llama-cloud-services>=0.6.2->llama-parse) (9.0.0)\n",
            "Requirement already satisfied: tiktoken>=0.3.3 in c:\\users\\linus\\appdata\\local\\programs\\python\\python311\\lib\\site-packages (from llama-index-core>=0.11.0->llama-cloud-services>=0.6.2->llama-parse) (0.9.0)\n",
            "Requirement already satisfied: tqdm<5.0.0,>=4.66.1 in c:\\users\\linus\\appdata\\local\\programs\\python\\python311\\lib\\site-packages (from llama-index-core>=0.11.0->llama-cloud-services>=0.6.2->llama-parse) (4.67.1)\n",
            "Requirement already satisfied: typing-extensions>=4.5.0 in c:\\users\\linus\\appdata\\roaming\\python\\python311\\site-packages (from llama-index-core>=0.11.0->llama-cloud-services>=0.6.2->llama-parse) (4.12.2)\n",
            "Requirement already satisfied: typing-inspect>=0.8.0 in c:\\users\\linus\\appdata\\local\\programs\\python\\python311\\lib\\site-packages (from llama-index-core>=0.11.0->llama-cloud-services>=0.6.2->llama-parse) (0.9.0)\n",
            "Requirement already satisfied: wrapt in c:\\users\\linus\\appdata\\local\\programs\\python\\python311\\lib\\site-packages (from llama-index-core>=0.11.0->llama-cloud-services>=0.6.2->llama-parse) (1.17.2)\n",
            "Requirement already satisfied: annotated-types>=0.6.0 in c:\\users\\linus\\appdata\\local\\programs\\python\\python311\\lib\\site-packages (from pydantic!=2.10->llama-cloud-services>=0.6.2->llama-parse) (0.7.0)\n",
            "Requirement already satisfied: pydantic-core==2.27.2 in c:\\users\\linus\\appdata\\local\\programs\\python\\python311\\lib\\site-packages (from pydantic!=2.10->llama-cloud-services>=0.6.2->llama-parse) (2.27.2)\n",
            "Requirement already satisfied: aiohappyeyeballs>=2.3.0 in c:\\users\\linus\\appdata\\local\\programs\\python\\python311\\lib\\site-packages (from aiohttp<4.0.0,>=3.8.6->llama-index-core>=0.11.0->llama-cloud-services>=0.6.2->llama-parse) (2.4.6)\n",
            "Requirement already satisfied: aiosignal>=1.1.2 in c:\\users\\linus\\appdata\\local\\programs\\python\\python311\\lib\\site-packages (from aiohttp<4.0.0,>=3.8.6->llama-index-core>=0.11.0->llama-cloud-services>=0.6.2->llama-parse) (1.3.2)\n",
            "Requirement already satisfied: attrs>=17.3.0 in c:\\users\\linus\\appdata\\local\\programs\\python\\python311\\lib\\site-packages (from aiohttp<4.0.0,>=3.8.6->llama-index-core>=0.11.0->llama-cloud-services>=0.6.2->llama-parse) (25.1.0)\n",
            "Requirement already satisfied: frozenlist>=1.1.1 in c:\\users\\linus\\appdata\\local\\programs\\python\\python311\\lib\\site-packages (from aiohttp<4.0.0,>=3.8.6->llama-index-core>=0.11.0->llama-cloud-services>=0.6.2->llama-parse) (1.5.0)\n",
            "Requirement already satisfied: multidict<7.0,>=4.5 in c:\\users\\linus\\appdata\\local\\programs\\python\\python311\\lib\\site-packages (from aiohttp<4.0.0,>=3.8.6->llama-index-core>=0.11.0->llama-cloud-services>=0.6.2->llama-parse) (6.1.0)\n",
            "Requirement already satisfied: propcache>=0.2.0 in c:\\users\\linus\\appdata\\local\\programs\\python\\python311\\lib\\site-packages (from aiohttp<4.0.0,>=3.8.6->llama-index-core>=0.11.0->llama-cloud-services>=0.6.2->llama-parse) (0.3.0)\n",
            "Requirement already satisfied: yarl<2.0,>=1.17.0 in c:\\users\\linus\\appdata\\local\\programs\\python\\python311\\lib\\site-packages (from aiohttp<4.0.0,>=3.8.6->llama-index-core>=0.11.0->llama-cloud-services>=0.6.2->llama-parse) (1.18.3)\n",
            "Requirement already satisfied: anyio in c:\\users\\linus\\appdata\\local\\programs\\python\\python311\\lib\\site-packages (from httpx>=0.20.0->llama-cloud<0.2.0,>=0.1.11->llama-cloud-services>=0.6.2->llama-parse) (4.8.0)\n",
            "Requirement already satisfied: httpcore==1.* in c:\\users\\linus\\appdata\\local\\programs\\python\\python311\\lib\\site-packages (from httpx>=0.20.0->llama-cloud<0.2.0,>=0.1.11->llama-cloud-services>=0.6.2->llama-parse) (1.0.7)\n",
            "Requirement already satisfied: idna in c:\\users\\linus\\appdata\\local\\programs\\python\\python311\\lib\\site-packages (from httpx>=0.20.0->llama-cloud<0.2.0,>=0.1.11->llama-cloud-services>=0.6.2->llama-parse) (3.10)\n",
            "Requirement already satisfied: h11<0.15,>=0.13 in c:\\users\\linus\\appdata\\local\\programs\\python\\python311\\lib\\site-packages (from httpcore==1.*->httpx>=0.20.0->llama-cloud<0.2.0,>=0.1.11->llama-cloud-services>=0.6.2->llama-parse) (0.14.0)\n",
            "Requirement already satisfied: joblib in c:\\users\\linus\\appdata\\local\\programs\\python\\python311\\lib\\site-packages (from nltk>3.8.1->llama-index-core>=0.11.0->llama-cloud-services>=0.6.2->llama-parse) (1.4.2)\n",
            "Requirement already satisfied: regex>=2021.8.3 in c:\\users\\linus\\appdata\\local\\programs\\python\\python311\\lib\\site-packages (from nltk>3.8.1->llama-index-core>=0.11.0->llama-cloud-services>=0.6.2->llama-parse) (2024.11.6)\n",
            "Requirement already satisfied: charset-normalizer<4,>=2 in c:\\users\\linus\\appdata\\local\\programs\\python\\python311\\lib\\site-packages (from requests>=2.31.0->llama-index-core>=0.11.0->llama-cloud-services>=0.6.2->llama-parse) (3.4.1)\n",
            "Requirement already satisfied: urllib3<3,>=1.21.1 in c:\\users\\linus\\appdata\\local\\programs\\python\\python311\\lib\\site-packages (from requests>=2.31.0->llama-index-core>=0.11.0->llama-cloud-services>=0.6.2->llama-parse) (2.3.0)\n",
            "Requirement already satisfied: greenlet!=0.4.17 in c:\\users\\linus\\appdata\\local\\programs\\python\\python311\\lib\\site-packages (from SQLAlchemy>=1.4.49->SQLAlchemy[asyncio]>=1.4.49->llama-index-core>=0.11.0->llama-cloud-services>=0.6.2->llama-parse) (3.1.1)\n",
            "Requirement already satisfied: mypy-extensions>=0.3.0 in c:\\users\\linus\\appdata\\local\\programs\\python\\python311\\lib\\site-packages (from typing-inspect>=0.8.0->llama-index-core>=0.11.0->llama-cloud-services>=0.6.2->llama-parse) (1.0.0)\n",
            "Requirement already satisfied: marshmallow<4.0.0,>=3.18.0 in c:\\users\\linus\\appdata\\local\\programs\\python\\python311\\lib\\site-packages (from dataclasses-json->llama-index-core>=0.11.0->llama-cloud-services>=0.6.2->llama-parse) (3.26.1)\n",
            "Requirement already satisfied: packaging>=17.0 in c:\\users\\linus\\appdata\\roaming\\python\\python311\\site-packages (from marshmallow<4.0.0,>=3.18.0->dataclasses-json->llama-index-core>=0.11.0->llama-cloud-services>=0.6.2->llama-parse) (24.2)\n",
            "Requirement already satisfied: sniffio>=1.1 in c:\\users\\linus\\appdata\\local\\programs\\python\\python311\\lib\\site-packages (from anyio->httpx>=0.20.0->llama-cloud<0.2.0,>=0.1.11->llama-cloud-services>=0.6.2->llama-parse) (1.3.1)\n",
            "Requirement already satisfied: qdrant_client in c:\\users\\linus\\appdata\\local\\programs\\python\\python311\\lib\\site-packages (1.13.2)\n",
            "Requirement already satisfied: grpcio>=1.41.0 in c:\\users\\linus\\appdata\\local\\programs\\python\\python311\\lib\\site-packages (from qdrant_client) (1.70.0)\n",
            "Requirement already satisfied: grpcio-tools>=1.41.0 in c:\\users\\linus\\appdata\\local\\programs\\python\\python311\\lib\\site-packages (from qdrant_client) (1.70.0)\n",
            "Requirement already satisfied: httpx>=0.20.0 in c:\\users\\linus\\appdata\\local\\programs\\python\\python311\\lib\\site-packages (from httpx[http2]>=0.20.0->qdrant_client) (0.28.1)\n",
            "Requirement already satisfied: numpy>=1.21 in c:\\users\\linus\\appdata\\local\\programs\\python\\python311\\lib\\site-packages (from qdrant_client) (1.26.4)\n",
            "Requirement already satisfied: portalocker<3.0.0,>=2.7.0 in c:\\users\\linus\\appdata\\local\\programs\\python\\python311\\lib\\site-packages (from qdrant_client) (2.10.1)\n",
            "Requirement already satisfied: pydantic>=1.10.8 in c:\\users\\linus\\appdata\\local\\programs\\python\\python311\\lib\\site-packages (from qdrant_client) (2.10.6)\n",
            "Requirement already satisfied: urllib3<3,>=1.26.14 in c:\\users\\linus\\appdata\\local\\programs\\python\\python311\\lib\\site-packages (from qdrant_client) (2.3.0)\n",
            "Requirement already satisfied: protobuf<6.0dev,>=5.26.1 in c:\\users\\linus\\appdata\\local\\programs\\python\\python311\\lib\\site-packages (from grpcio-tools>=1.41.0->qdrant_client) (5.29.3)\n",
            "Requirement already satisfied: setuptools in c:\\users\\linus\\appdata\\local\\programs\\python\\python311\\lib\\site-packages (from grpcio-tools>=1.41.0->qdrant_client) (65.5.0)\n",
            "Requirement already satisfied: anyio in c:\\users\\linus\\appdata\\local\\programs\\python\\python311\\lib\\site-packages (from httpx>=0.20.0->httpx[http2]>=0.20.0->qdrant_client) (4.8.0)\n",
            "Requirement already satisfied: certifi in c:\\users\\linus\\appdata\\local\\programs\\python\\python311\\lib\\site-packages (from httpx>=0.20.0->httpx[http2]>=0.20.0->qdrant_client) (2025.1.31)\n",
            "Requirement already satisfied: httpcore==1.* in c:\\users\\linus\\appdata\\local\\programs\\python\\python311\\lib\\site-packages (from httpx>=0.20.0->httpx[http2]>=0.20.0->qdrant_client) (1.0.7)\n",
            "Requirement already satisfied: idna in c:\\users\\linus\\appdata\\local\\programs\\python\\python311\\lib\\site-packages (from httpx>=0.20.0->httpx[http2]>=0.20.0->qdrant_client) (3.10)\n",
            "Requirement already satisfied: h11<0.15,>=0.13 in c:\\users\\linus\\appdata\\local\\programs\\python\\python311\\lib\\site-packages (from httpcore==1.*->httpx>=0.20.0->httpx[http2]>=0.20.0->qdrant_client) (0.14.0)\n",
            "Requirement already satisfied: h2<5,>=3 in c:\\users\\linus\\appdata\\local\\programs\\python\\python311\\lib\\site-packages (from httpx[http2]>=0.20.0->qdrant_client) (4.2.0)\n",
            "Requirement already satisfied: pywin32>=226 in c:\\users\\linus\\appdata\\roaming\\python\\python311\\site-packages (from portalocker<3.0.0,>=2.7.0->qdrant_client) (308)\n",
            "Requirement already satisfied: annotated-types>=0.6.0 in c:\\users\\linus\\appdata\\local\\programs\\python\\python311\\lib\\site-packages (from pydantic>=1.10.8->qdrant_client) (0.7.0)\n",
            "Requirement already satisfied: pydantic-core==2.27.2 in c:\\users\\linus\\appdata\\local\\programs\\python\\python311\\lib\\site-packages (from pydantic>=1.10.8->qdrant_client) (2.27.2)\n",
            "Requirement already satisfied: typing-extensions>=4.12.2 in c:\\users\\linus\\appdata\\roaming\\python\\python311\\site-packages (from pydantic>=1.10.8->qdrant_client) (4.12.2)\n",
            "Requirement already satisfied: hyperframe<7,>=6.1 in c:\\users\\linus\\appdata\\local\\programs\\python\\python311\\lib\\site-packages (from h2<5,>=3->httpx[http2]>=0.20.0->qdrant_client) (6.1.0)\n",
            "Requirement already satisfied: hpack<5,>=4.1 in c:\\users\\linus\\appdata\\local\\programs\\python\\python311\\lib\\site-packages (from h2<5,>=3->httpx[http2]>=0.20.0->qdrant_client) (4.1.0)\n",
            "Requirement already satisfied: sniffio>=1.1 in c:\\users\\linus\\appdata\\local\\programs\\python\\python311\\lib\\site-packages (from anyio->httpx>=0.20.0->httpx[http2]>=0.20.0->qdrant_client) (1.3.1)\n",
            "Requirement already satisfied: langchain_qdrant in c:\\users\\linus\\appdata\\local\\programs\\python\\python311\\lib\\site-packages (0.2.0)\n",
            "Requirement already satisfied: langchain-core!=0.3.0,!=0.3.1,!=0.3.10,!=0.3.11,!=0.3.12,!=0.3.13,!=0.3.14,!=0.3.2,!=0.3.3,!=0.3.4,!=0.3.5,!=0.3.6,!=0.3.7,!=0.3.8,!=0.3.9,<0.4.0,>=0.2.43 in c:\\users\\linus\\appdata\\local\\programs\\python\\python311\\lib\\site-packages (from langchain_qdrant) (0.3.39)\n",
            "Requirement already satisfied: pydantic<3.0.0,>=2.7.4 in c:\\users\\linus\\appdata\\local\\programs\\python\\python311\\lib\\site-packages (from langchain_qdrant) (2.10.6)\n",
            "Requirement already satisfied: qdrant-client<2.0.0,>=1.10.1 in c:\\users\\linus\\appdata\\local\\programs\\python\\python311\\lib\\site-packages (from langchain_qdrant) (1.13.2)\n",
            "Requirement already satisfied: langsmith<0.4,>=0.1.125 in c:\\users\\linus\\appdata\\local\\programs\\python\\python311\\lib\\site-packages (from langchain-core!=0.3.0,!=0.3.1,!=0.3.10,!=0.3.11,!=0.3.12,!=0.3.13,!=0.3.14,!=0.3.2,!=0.3.3,!=0.3.4,!=0.3.5,!=0.3.6,!=0.3.7,!=0.3.8,!=0.3.9,<0.4.0,>=0.2.43->langchain_qdrant) (0.3.11)\n",
            "Requirement already satisfied: tenacity!=8.4.0,<10.0.0,>=8.1.0 in c:\\users\\linus\\appdata\\local\\programs\\python\\python311\\lib\\site-packages (from langchain-core!=0.3.0,!=0.3.1,!=0.3.10,!=0.3.11,!=0.3.12,!=0.3.13,!=0.3.14,!=0.3.2,!=0.3.3,!=0.3.4,!=0.3.5,!=0.3.6,!=0.3.7,!=0.3.8,!=0.3.9,<0.4.0,>=0.2.43->langchain_qdrant) (9.0.0)\n",
            "Requirement already satisfied: jsonpatch<2.0,>=1.33 in c:\\users\\linus\\appdata\\local\\programs\\python\\python311\\lib\\site-packages (from langchain-core!=0.3.0,!=0.3.1,!=0.3.10,!=0.3.11,!=0.3.12,!=0.3.13,!=0.3.14,!=0.3.2,!=0.3.3,!=0.3.4,!=0.3.5,!=0.3.6,!=0.3.7,!=0.3.8,!=0.3.9,<0.4.0,>=0.2.43->langchain_qdrant) (1.33)\n",
            "Requirement already satisfied: PyYAML>=5.3 in c:\\users\\linus\\appdata\\local\\programs\\python\\python311\\lib\\site-packages (from langchain-core!=0.3.0,!=0.3.1,!=0.3.10,!=0.3.11,!=0.3.12,!=0.3.13,!=0.3.14,!=0.3.2,!=0.3.3,!=0.3.4,!=0.3.5,!=0.3.6,!=0.3.7,!=0.3.8,!=0.3.9,<0.4.0,>=0.2.43->langchain_qdrant) (6.0.2)\n",
            "Requirement already satisfied: packaging<25,>=23.2 in c:\\users\\linus\\appdata\\roaming\\python\\python311\\site-packages (from langchain-core!=0.3.0,!=0.3.1,!=0.3.10,!=0.3.11,!=0.3.12,!=0.3.13,!=0.3.14,!=0.3.2,!=0.3.3,!=0.3.4,!=0.3.5,!=0.3.6,!=0.3.7,!=0.3.8,!=0.3.9,<0.4.0,>=0.2.43->langchain_qdrant) (24.2)\n",
            "Requirement already satisfied: typing-extensions>=4.7 in c:\\users\\linus\\appdata\\roaming\\python\\python311\\site-packages (from langchain-core!=0.3.0,!=0.3.1,!=0.3.10,!=0.3.11,!=0.3.12,!=0.3.13,!=0.3.14,!=0.3.2,!=0.3.3,!=0.3.4,!=0.3.5,!=0.3.6,!=0.3.7,!=0.3.8,!=0.3.9,<0.4.0,>=0.2.43->langchain_qdrant) (4.12.2)\n",
            "Requirement already satisfied: annotated-types>=0.6.0 in c:\\users\\linus\\appdata\\local\\programs\\python\\python311\\lib\\site-packages (from pydantic<3.0.0,>=2.7.4->langchain_qdrant) (0.7.0)\n",
            "Requirement already satisfied: pydantic-core==2.27.2 in c:\\users\\linus\\appdata\\local\\programs\\python\\python311\\lib\\site-packages (from pydantic<3.0.0,>=2.7.4->langchain_qdrant) (2.27.2)\n",
            "Requirement already satisfied: grpcio>=1.41.0 in c:\\users\\linus\\appdata\\local\\programs\\python\\python311\\lib\\site-packages (from qdrant-client<2.0.0,>=1.10.1->langchain_qdrant) (1.70.0)\n",
            "Requirement already satisfied: grpcio-tools>=1.41.0 in c:\\users\\linus\\appdata\\local\\programs\\python\\python311\\lib\\site-packages (from qdrant-client<2.0.0,>=1.10.1->langchain_qdrant) (1.70.0)\n",
            "Requirement already satisfied: httpx>=0.20.0 in c:\\users\\linus\\appdata\\local\\programs\\python\\python311\\lib\\site-packages (from httpx[http2]>=0.20.0->qdrant-client<2.0.0,>=1.10.1->langchain_qdrant) (0.28.1)\n",
            "Requirement already satisfied: numpy>=1.21 in c:\\users\\linus\\appdata\\local\\programs\\python\\python311\\lib\\site-packages (from qdrant-client<2.0.0,>=1.10.1->langchain_qdrant) (1.26.4)\n",
            "Requirement already satisfied: portalocker<3.0.0,>=2.7.0 in c:\\users\\linus\\appdata\\local\\programs\\python\\python311\\lib\\site-packages (from qdrant-client<2.0.0,>=1.10.1->langchain_qdrant) (2.10.1)\n",
            "Requirement already satisfied: urllib3<3,>=1.26.14 in c:\\users\\linus\\appdata\\local\\programs\\python\\python311\\lib\\site-packages (from qdrant-client<2.0.0,>=1.10.1->langchain_qdrant) (2.3.0)\n",
            "Requirement already satisfied: protobuf<6.0dev,>=5.26.1 in c:\\users\\linus\\appdata\\local\\programs\\python\\python311\\lib\\site-packages (from grpcio-tools>=1.41.0->qdrant-client<2.0.0,>=1.10.1->langchain_qdrant) (5.29.3)\n",
            "Requirement already satisfied: setuptools in c:\\users\\linus\\appdata\\local\\programs\\python\\python311\\lib\\site-packages (from grpcio-tools>=1.41.0->qdrant-client<2.0.0,>=1.10.1->langchain_qdrant) (65.5.0)\n",
            "Requirement already satisfied: anyio in c:\\users\\linus\\appdata\\local\\programs\\python\\python311\\lib\\site-packages (from httpx>=0.20.0->httpx[http2]>=0.20.0->qdrant-client<2.0.0,>=1.10.1->langchain_qdrant) (4.8.0)\n",
            "Requirement already satisfied: certifi in c:\\users\\linus\\appdata\\local\\programs\\python\\python311\\lib\\site-packages (from httpx>=0.20.0->httpx[http2]>=0.20.0->qdrant-client<2.0.0,>=1.10.1->langchain_qdrant) (2025.1.31)\n",
            "Requirement already satisfied: httpcore==1.* in c:\\users\\linus\\appdata\\local\\programs\\python\\python311\\lib\\site-packages (from httpx>=0.20.0->httpx[http2]>=0.20.0->qdrant-client<2.0.0,>=1.10.1->langchain_qdrant) (1.0.7)\n",
            "Requirement already satisfied: idna in c:\\users\\linus\\appdata\\local\\programs\\python\\python311\\lib\\site-packages (from httpx>=0.20.0->httpx[http2]>=0.20.0->qdrant-client<2.0.0,>=1.10.1->langchain_qdrant) (3.10)\n",
            "Requirement already satisfied: h11<0.15,>=0.13 in c:\\users\\linus\\appdata\\local\\programs\\python\\python311\\lib\\site-packages (from httpcore==1.*->httpx>=0.20.0->httpx[http2]>=0.20.0->qdrant-client<2.0.0,>=1.10.1->langchain_qdrant) (0.14.0)\n",
            "Requirement already satisfied: h2<5,>=3 in c:\\users\\linus\\appdata\\local\\programs\\python\\python311\\lib\\site-packages (from httpx[http2]>=0.20.0->qdrant-client<2.0.0,>=1.10.1->langchain_qdrant) (4.2.0)\n",
            "Requirement already satisfied: jsonpointer>=1.9 in c:\\users\\linus\\appdata\\local\\programs\\python\\python311\\lib\\site-packages (from jsonpatch<2.0,>=1.33->langchain-core!=0.3.0,!=0.3.1,!=0.3.10,!=0.3.11,!=0.3.12,!=0.3.13,!=0.3.14,!=0.3.2,!=0.3.3,!=0.3.4,!=0.3.5,!=0.3.6,!=0.3.7,!=0.3.8,!=0.3.9,<0.4.0,>=0.2.43->langchain_qdrant) (3.0.0)\n",
            "Requirement already satisfied: orjson<4.0.0,>=3.9.14 in c:\\users\\linus\\appdata\\local\\programs\\python\\python311\\lib\\site-packages (from langsmith<0.4,>=0.1.125->langchain-core!=0.3.0,!=0.3.1,!=0.3.10,!=0.3.11,!=0.3.12,!=0.3.13,!=0.3.14,!=0.3.2,!=0.3.3,!=0.3.4,!=0.3.5,!=0.3.6,!=0.3.7,!=0.3.8,!=0.3.9,<0.4.0,>=0.2.43->langchain_qdrant) (3.10.15)\n",
            "Requirement already satisfied: requests<3,>=2 in c:\\users\\linus\\appdata\\local\\programs\\python\\python311\\lib\\site-packages (from langsmith<0.4,>=0.1.125->langchain-core!=0.3.0,!=0.3.1,!=0.3.10,!=0.3.11,!=0.3.12,!=0.3.13,!=0.3.14,!=0.3.2,!=0.3.3,!=0.3.4,!=0.3.5,!=0.3.6,!=0.3.7,!=0.3.8,!=0.3.9,<0.4.0,>=0.2.43->langchain_qdrant) (2.32.3)\n",
            "Requirement already satisfied: requests-toolbelt<2.0.0,>=1.0.0 in c:\\users\\linus\\appdata\\local\\programs\\python\\python311\\lib\\site-packages (from langsmith<0.4,>=0.1.125->langchain-core!=0.3.0,!=0.3.1,!=0.3.10,!=0.3.11,!=0.3.12,!=0.3.13,!=0.3.14,!=0.3.2,!=0.3.3,!=0.3.4,!=0.3.5,!=0.3.6,!=0.3.7,!=0.3.8,!=0.3.9,<0.4.0,>=0.2.43->langchain_qdrant) (1.0.0)\n",
            "Requirement already satisfied: zstandard<0.24.0,>=0.23.0 in c:\\users\\linus\\appdata\\local\\programs\\python\\python311\\lib\\site-packages (from langsmith<0.4,>=0.1.125->langchain-core!=0.3.0,!=0.3.1,!=0.3.10,!=0.3.11,!=0.3.12,!=0.3.13,!=0.3.14,!=0.3.2,!=0.3.3,!=0.3.4,!=0.3.5,!=0.3.6,!=0.3.7,!=0.3.8,!=0.3.9,<0.4.0,>=0.2.43->langchain_qdrant) (0.23.0)\n",
            "Requirement already satisfied: pywin32>=226 in c:\\users\\linus\\appdata\\roaming\\python\\python311\\site-packages (from portalocker<3.0.0,>=2.7.0->qdrant-client<2.0.0,>=1.10.1->langchain_qdrant) (308)\n",
            "Requirement already satisfied: hyperframe<7,>=6.1 in c:\\users\\linus\\appdata\\local\\programs\\python\\python311\\lib\\site-packages (from h2<5,>=3->httpx[http2]>=0.20.0->qdrant-client<2.0.0,>=1.10.1->langchain_qdrant) (6.1.0)\n",
            "Requirement already satisfied: hpack<5,>=4.1 in c:\\users\\linus\\appdata\\local\\programs\\python\\python311\\lib\\site-packages (from h2<5,>=3->httpx[http2]>=0.20.0->qdrant-client<2.0.0,>=1.10.1->langchain_qdrant) (4.1.0)\n",
            "Requirement already satisfied: charset-normalizer<4,>=2 in c:\\users\\linus\\appdata\\local\\programs\\python\\python311\\lib\\site-packages (from requests<3,>=2->langsmith<0.4,>=0.1.125->langchain-core!=0.3.0,!=0.3.1,!=0.3.10,!=0.3.11,!=0.3.12,!=0.3.13,!=0.3.14,!=0.3.2,!=0.3.3,!=0.3.4,!=0.3.5,!=0.3.6,!=0.3.7,!=0.3.8,!=0.3.9,<0.4.0,>=0.2.43->langchain_qdrant) (3.4.1)\n",
            "Requirement already satisfied: sniffio>=1.1 in c:\\users\\linus\\appdata\\local\\programs\\python\\python311\\lib\\site-packages (from anyio->httpx>=0.20.0->httpx[http2]>=0.20.0->qdrant-client<2.0.0,>=1.10.1->langchain_qdrant) (1.3.1)\n",
            "Requirement already satisfied: ollama in c:\\users\\linus\\appdata\\local\\programs\\python\\python311\\lib\\site-packages (0.4.7)\n",
            "Requirement already satisfied: httpx<0.29,>=0.27 in c:\\users\\linus\\appdata\\local\\programs\\python\\python311\\lib\\site-packages (from ollama) (0.28.1)\n",
            "Requirement already satisfied: pydantic<3.0.0,>=2.9.0 in c:\\users\\linus\\appdata\\local\\programs\\python\\python311\\lib\\site-packages (from ollama) (2.10.6)\n",
            "Requirement already satisfied: anyio in c:\\users\\linus\\appdata\\local\\programs\\python\\python311\\lib\\site-packages (from httpx<0.29,>=0.27->ollama) (4.8.0)\n",
            "Requirement already satisfied: certifi in c:\\users\\linus\\appdata\\local\\programs\\python\\python311\\lib\\site-packages (from httpx<0.29,>=0.27->ollama) (2025.1.31)\n",
            "Requirement already satisfied: httpcore==1.* in c:\\users\\linus\\appdata\\local\\programs\\python\\python311\\lib\\site-packages (from httpx<0.29,>=0.27->ollama) (1.0.7)\n",
            "Requirement already satisfied: idna in c:\\users\\linus\\appdata\\local\\programs\\python\\python311\\lib\\site-packages (from httpx<0.29,>=0.27->ollama) (3.10)\n",
            "Requirement already satisfied: h11<0.15,>=0.13 in c:\\users\\linus\\appdata\\local\\programs\\python\\python311\\lib\\site-packages (from httpcore==1.*->httpx<0.29,>=0.27->ollama) (0.14.0)\n",
            "Requirement already satisfied: annotated-types>=0.6.0 in c:\\users\\linus\\appdata\\local\\programs\\python\\python311\\lib\\site-packages (from pydantic<3.0.0,>=2.9.0->ollama) (0.7.0)\n",
            "Requirement already satisfied: pydantic-core==2.27.2 in c:\\users\\linus\\appdata\\local\\programs\\python\\python311\\lib\\site-packages (from pydantic<3.0.0,>=2.9.0->ollama) (2.27.2)\n",
            "Requirement already satisfied: typing-extensions>=4.12.2 in c:\\users\\linus\\appdata\\roaming\\python\\python311\\site-packages (from pydantic<3.0.0,>=2.9.0->ollama) (4.12.2)\n",
            "Requirement already satisfied: sniffio>=1.1 in c:\\users\\linus\\appdata\\local\\programs\\python\\python311\\lib\\site-packages (from anyio->httpx<0.29,>=0.27->ollama) (1.3.1)\n"
          ]
        }
      ],
      "source": [
        "!pip install langchain_community[all]\n",
        "!pip install llama-parse\n",
        "!pip install qdrant_client\n",
        "!pip install langchain_qdrant\n",
        "!pip install ollama"
      ]
    },
    {
      "cell_type": "markdown",
      "metadata": {
        "id": "vctuWs9yIdCI"
      },
      "source": [
        "Import Library\n",
        "\n"
      ]
    },
    {
      "cell_type": "code",
      "execution_count": 63,
      "metadata": {
        "id": "ZlIku1tcCy6z"
      },
      "outputs": [],
      "source": [
        "import os\n",
        "import uuid\n",
        "from langchain_community.document_loaders import PyPDFLoader, TextLoader, UnstructuredMarkdownLoader\n",
        "from langchain.text_splitter import RecursiveCharacterTextSplitter\n",
        "from qdrant_client import QdrantClient, models\n",
        "from langchain_qdrant import FastEmbedSparse, Qdrant\n",
        "from langchain_community.vectorstores import Qdrant\n",
        "from langchain_core.documents import Document\n",
        "import nest_asyncio\n",
        "from llama_parse import LlamaParse\n",
        "import ollama\n",
        "from langchain_community.embeddings import OllamaEmbeddings"
      ]
    },
    {
      "cell_type": "code",
      "execution_count": 64,
      "metadata": {
        "id": "GbJPPLitXk5J"
      },
      "outputs": [],
      "source": [
        "nest_asyncio.apply()"
      ]
    },
    {
      "cell_type": "markdown",
      "metadata": {
        "id": "N5JM78hSIgvF"
      },
      "source": [
        "API"
      ]
    },
    {
      "cell_type": "code",
      "execution_count": 65,
      "metadata": {
        "id": "rz8ly7yuFIZu"
      },
      "outputs": [
        {
          "data": {
            "text/plain": [
              "True"
            ]
          },
          "execution_count": 65,
          "metadata": {},
          "output_type": "execute_result"
        }
      ],
      "source": [
        "import os\n",
        "from dotenv import load_dotenv\n",
        "\n",
        "load_dotenv()"
      ]
    },
    {
      "cell_type": "code",
      "execution_count": 66,
      "metadata": {
        "id": "2J4GgFjzHcWZ"
      },
      "outputs": [],
      "source": [
        "qdrant_url = os.environ[\"QDRANT_URL\"]\n",
        "qdrant_api_key = os.environ[\"QDRANT_API_KEY\"]\n",
        "collection_name = \"Ollama-RAG\"\n",
        "\n",
        "qdrant_client = QdrantClient(url=qdrant_url, api_key=qdrant_api_key)"
      ]
    },
    {
      "cell_type": "code",
      "execution_count": 67,
      "metadata": {
        "colab": {
          "base_uri": "https://localhost:8080/"
        },
        "id": "IheYOyZtJewQ",
        "outputId": "77135bd3-2857-4813-93c2-f2037d2f137d"
      },
      "outputs": [],
      "source": [
        "# --- Vectorstore Initialization (Langchain Qdrant) ---\n",
        "vectorstore = Qdrant(\n",
        "    client=qdrant_client,\n",
        "    collection_name=collection_name,\n",
        "    embeddings=OllamaEmbeddings,  # We're handling embeddings separately\n",
        ")"
      ]
    },
    {
      "cell_type": "markdown",
      "metadata": {
        "id": "7Zl6Nbn1IrF9"
      },
      "source": [
        "Hybrid Search Function"
      ]
    },
    {
      "cell_type": "code",
      "execution_count": 68,
      "metadata": {
        "id": "o8Lk4Yj6IRz_"
      },
      "outputs": [],
      "source": [
        "def hybrid_search(query: str, collection: str, limit: int = 5):\n",
        "    dense_vector = ollama.embeddings(model='rjmalagon/gte-qwen2-1.5b-instruct-embed-f16', prompt=query)\n",
        "\n",
        "    results = qdrant_client.search(\n",
        "            collection_name=collection_name,\n",
        "            query_vector=models.NamedVector(\n",
        "                name=\"gte-qwen1.5\",\n",
        "                vector=dense_vector['embedding']\n",
        "            ),\n",
        "            limit=limit,\n",
        "            search_params=models.SearchParams(\n",
        "                hnsw_ef=128\n",
        "            )\n",
        "    )\n",
        "    return results"
      ]
    },
    {
      "cell_type": "code",
      "execution_count": 69,
      "metadata": {},
      "outputs": [
        {
          "data": {
            "text/plain": [
              "[ScoredPoint(id=8, version=0, score=0.6242708, payload={'text': '1 Introduction\\n1.1 What is Machine Learning\\nMachine learning is a subﬁeld of computer science that is concerned with building algorithms\\nwhich, to be useful, rely on a collection of examples of some phenomenon. These examples\\ncan come from nature, be handcrafted by humans or generated by another algorithm.\\nMachine learning can also be deﬁned as the process of solving a practical problem by 1)\\ngathering a dataset, and 2) algorithmically building a statistical model based on that dataset.', 'metadata': {'source': 'C:/Users/shaoe/OneDrive/Desktop/AAI3008LLM/The_Hundred_page_Machine_Learning_Book_Andriy_Burkov_Z_Library.pdf', 'page': 2}}, vector=None, shard_key=None, order_value=None),\n",
              " ScoredPoint(id=4, version=0, score=0.5859206, payload={'text': 'As you can see, just like artiﬁcial intelligence is not intelligence, machine learning is not\\nlearning. However, machine learning is a universally recognized term that usually refers\\nto the science and engineering of building machines capable of doing various useful things\\nwithout being explicitly programmed to do so. So, the word “learning” in the term is used\\nby analogy with the learning in animals rather than literally.\\nWho This Book is For', 'metadata': {'source': 'C:/Users/shaoe/OneDrive/Desktop/AAI3008LLM/The_Hundred_page_Machine_Learning_Book_Andriy_Burkov_Z_Library.pdf', 'page': 1}}, vector=None, shard_key=None, order_value=None),\n",
              " ScoredPoint(id=1, version=0, score=0.5487386, payload={'text': 'Preface\\nLet’s start by telling the truth: machines don’t learn. What a typical “learning machine”\\ndoes, is ﬁnding a mathematical formula, which, when applied to a collection of inputs (called\\n“training data”), produces the desired outputs. This mathematical formula also generates the\\ncorrect outputs for most other inputs (distinct from the training data) on the condition that\\nthose inputs come from the same or a similar statistical distribution as the one the training\\ndata was drawn from.', 'metadata': {'source': 'C:/Users/shaoe/OneDrive/Desktop/AAI3008LLM/The_Hundred_page_Machine_Learning_Book_Andriy_Burkov_Z_Library.pdf', 'page': 1}}, vector=None, shard_key=None, order_value=None),\n",
              " ScoredPoint(id=3, version=0, score=0.52905715, payload={'text': 'game on a rotated screen.\\nSo why the name “machine learning” then? The reason, as is often the case, is marketing:\\nArthur Samuel, an American pioneer in the ﬁeld of computer gaming and artiﬁcial intelligence,\\ncoined the term in 1959 while at IBM. Similarly to how in the 2010s IBM tried to market\\nthe term “cognitive computing” to stand out from competition, in the 1960s, IBM used the\\nnew cool term “machine learning” to attract both clients and talented employees.', 'metadata': {'source': 'C:/Users/shaoe/OneDrive/Desktop/AAI3008LLM/The_Hundred_page_Machine_Learning_Book_Andriy_Burkov_Z_Library.pdf', 'page': 1}}, vector=None, shard_key=None, order_value=None),\n",
              " ScoredPoint(id=235, version=23, score=0.52751267, payload={'text': 'Figure 1: Machine learning algorithm selection diagram for scikit-learn.\\nAndriy Burkov The Hundred-Page Machine Learning Book - Draft 10', 'metadata': {'source': 'C:/Users/shaoe/OneDrive/Desktop/AAI3008LLM/The_Hundred_page_Machine_Learning_Book_Andriy_Burkov_Z_Library.pdf', 'page': 50}}, vector=None, shard_key=None, order_value=None)]"
            ]
          },
          "execution_count": 69,
          "metadata": {},
          "output_type": "execute_result"
        }
      ],
      "source": [
        "hybrid_search(\"What is machine learning?\", \"Ollama-RAG\")"
      ]
    },
    {
      "cell_type": "code",
      "execution_count": 70,
      "metadata": {},
      "outputs": [
        {
          "data": {
            "text/plain": [
              "'Database Context: 1 Introduction\\n1.1 What is Machine Learning\\nMachine learning is a subﬁeld of computer science that is concerned with building algorithms\\nwhich, to be useful, rely on a collection of examples of some phenomenon. These examples\\ncan come from nature, be handcrafted by humans or generated by another algorithm.\\nMachine learning can also be deﬁned as the process of solving a practical problem by 1)\\ngathering a dataset, and 2) algorithmically building a statistical model based on that dataset.As you can see, just like artiﬁcial intelligence is not intelligence, machine learning is not\\nlearning. However, machine learning is a universally recognized term that usually refers\\nto the science and engineering of building machines capable of doing various useful things\\nwithout being explicitly programmed to do so. So, the word “learning” in the term is used\\nby analogy with the learning in animals rather than literally.\\nWho This Book is ForPreface\\nLet’s start by telling the truth: machines don’t learn. What a typical “learning machine”\\ndoes, is ﬁnding a mathematical formula, which, when applied to a collection of inputs (called\\n“training data”), produces the desired outputs. This mathematical formula also generates the\\ncorrect outputs for most other inputs (distinct from the training data) on the condition that\\nthose inputs come from the same or a similar statistical distribution as the one the training\\ndata was drawn from.'"
            ]
          },
          "execution_count": 70,
          "metadata": {},
          "output_type": "execute_result"
        }
      ],
      "source": [
        "def retrieve_documents(query):\n",
        "    results = hybrid_search(query, collection=collection_name, limit=3)  # Use hybrid search here\n",
        "    list = \"Database Context: \"\n",
        "    for i in range(len(results)):\n",
        "        list += str(results[i].payload['text'])\n",
        "    return list\n",
        "\n",
        "retrieve_documents(\"What is machine learning?\")"
      ]
    },
    {
      "cell_type": "markdown",
      "metadata": {
        "id": "ldaXDaYxIu24"
      },
      "source": [
        "RAG Chain"
      ]
    },
    {
      "cell_type": "code",
      "execution_count": 71,
      "metadata": {
        "id": "1tgu9WEHIyuk"
      },
      "outputs": [],
      "source": [
        "from langchain_core.runnables import RunnablePassthrough\n",
        "from langchain_core.prompts import ChatPromptTemplate\n",
        "from langchain_community.llms import Ollama\n",
        "from langchain_core.output_parsers import StrOutputParser\n",
        "from langchain_community.utilities import GoogleSearchAPIWrapper"
      ]
    },
    {
      "cell_type": "code",
      "execution_count": 72,
      "metadata": {
        "id": "7cudGe4-I0un"
      },
      "outputs": [],
      "source": [
        "def get_rag_chain(enable_search=False):\n",
        "    \"\"\"Creates and returns the RAG chain with hybrid search and optional Google Search.\"\"\"\n",
        "\n",
        "    # Initialize the LLM\n",
        "    llm = Ollama(model=\"phi3:mini\")\n",
        "\n",
        "    # Create a prompt template\n",
        "    template = \"\"\"Answer the question based on the following context:\n",
        "    {context}\n",
        "    {online_context}\n",
        "\n",
        "    Question: {question}\n",
        "    \"\"\"\n",
        "    prompt = ChatPromptTemplate.from_template(template)\n",
        "\n",
        "    # Function to retrieve relevant documents using hybrid search\n",
        "    def retrieve_documents(query):\n",
        "        results = hybrid_search(query, collection=collection_name, limit=3)  # Upgrade to hybrid search here\n",
        "        list = \"Database Context: \"\n",
        "        for i in range(len(results)):\n",
        "            list += str(results[i].payload['text'])\n",
        "        #print(f\"{list}\") # This one maybe fix to add metadata content\n",
        "        return list \n",
        "\n",
        "    # Add online searching, defaulting to empty string if search is disabled\n",
        "    def online_search(query):\n",
        "        \"\"\"Searches Google and returns a summary of the results.\"\"\"\n",
        "        search = GoogleSearchAPIWrapper()\n",
        "        search_results = search.run(query)\n",
        "        if not search_results:\n",
        "            search_results = \"No relevant information found online.\"  # Handle empty results\n",
        "        #print(f\"Online Search Results: {search_results}\")  # Debugging\n",
        "        return f\"Online search results: {search_results}\"\n",
        "    \n",
        "    def filler(query):\n",
        "        #print(\"Online Search Switched off\")\n",
        "        return f\"Online Search Switched Off\"\n",
        "    \n",
        "    if enable_search:\n",
        "        rag_chain = (\n",
        "        {\"context\": retrieve_documents, ### This need \n",
        "         \"question\": RunnablePassthrough(),\n",
        "         \"online_context\": online_search} ### This is correct\n",
        "        | prompt\n",
        "        | llm\n",
        "        | StrOutputParser()\n",
        "    )\n",
        "    else:\n",
        "        rag_chain = (\n",
        "        {\"context\": retrieve_documents, ### This need \n",
        "         \"question\": RunnablePassthrough(),\n",
        "         \"online_context\": filler} ### This is correct\n",
        "        | prompt\n",
        "        | llm\n",
        "        | StrOutputParser()\n",
        "    )\n",
        "\n",
        "    return rag_chain"
      ]
    },
    {
      "cell_type": "markdown",
      "metadata": {
        "id": "3YvTe_rEJIme"
      },
      "source": [
        "Search Tool"
      ]
    },
    {
      "cell_type": "code",
      "execution_count": 73,
      "metadata": {
        "id": "VAjB1o7EI8H_"
      },
      "outputs": [],
      "source": [
        "def agent_search(query):\n",
        "    \"\"\"Search for relevant information in the document and online.\"\"\"\n",
        "    rag_chain = get_rag_chain(enable_search=False)  # Enable online search\n",
        "    response = rag_chain.invoke(query)\n",
        "    return response"
      ]
    },
    {
      "cell_type": "code",
      "execution_count": 74,
      "metadata": {
        "id": "F4k3wPeeqONN"
      },
      "outputs": [],
      "source": [
        "from langchain.agents import Tool"
      ]
    },
    {
      "cell_type": "code",
      "execution_count": 75,
      "metadata": {
        "id": "cFQnqC4zqR9R"
      },
      "outputs": [],
      "source": [
        "tools = [\n",
        "    Tool(\n",
        "        name=\"document_search\",\n",
        "        func=agent_search,\n",
        "        description=\"useful for when you need to answer questions about the document and online.\"\n",
        "    )\n",
        "]"
      ]
    },
    {
      "cell_type": "code",
      "execution_count": 76,
      "metadata": {
        "id": "2zw9Rq46qay_"
      },
      "outputs": [],
      "source": [
        "# --- Agent Initialization ---\n",
        "from langchain_community.llms import Ollama\n",
        "from langchain.agents import initialize_agent\n",
        "from langchain.agents import AgentType"
      ]
    },
    {
      "cell_type": "code",
      "execution_count": 77,
      "metadata": {
        "colab": {
          "base_uri": "https://localhost:8080/"
        },
        "id": "TUPqDdeJqb2H",
        "outputId": "f78ce230-4d35-45c9-eeb8-fc4ba5a6dd25"
      },
      "outputs": [],
      "source": [
        "llm = Ollama(model=\"phi3:mini\")\n",
        "agent = initialize_agent(tools, llm, agent=AgentType.ZERO_SHOT_REACT_DESCRIPTION, verbose=True)"
      ]
    },
    {
      "cell_type": "code",
      "execution_count": 78,
      "metadata": {
        "id": "vFRIuoVwdn3Y"
      },
      "outputs": [],
      "source": [
        "from langchain_google_community import GoogleSearchAPIWrapper"
      ]
    },
    {
      "cell_type": "code",
      "execution_count": 79,
      "metadata": {},
      "outputs": [
        {
          "name": "stdout",
          "output_type": "stream",
          "text": [
            "\n",
            "\n",
            "\u001b[1m> Entering new AgentExecutor chain...\u001b[0m\n"
          ]
        }
      ],
      "source": [
        "## WAKE UP\n",
        "try:\n",
        "    agent.run(\"Hello\")\n",
        "except:\n",
        "    pass"
      ]
    },
    {
      "cell_type": "code",
      "execution_count": 80,
      "metadata": {
        "colab": {
          "base_uri": "https://localhost:8080/",
          "height": 755
        },
        "id": "0w-aff7iqhWB",
        "outputId": "82c8a1ec-e62a-4b65-944e-463e7ae01e31"
      },
      "outputs": [
        {
          "name": "stdout",
          "output_type": "stream",
          "text": [
            "\n",
            "\n",
            "\u001b[1m> Entering new AgentExecutor chain...\u001b[0m\n",
            "\u001b[32;1m\u001b[1;3m\n",
            "Question: What is machine learning?\n",
            "Thought: Machine learning seems like a broad topic; it would be beneficial to find reliable information about its definition and principles. I will use the document_search tool for this purpose.\n",
            "Action: document_search\n",
            "Action Input: \"What is machine learning?\"\u001b[0m\n",
            "Observation: \u001b[36;1m\u001b[1;3mMachine Learning, often abbreviated to ML, is an essential branch of computer science that focuses on creating algorithms capable of making accurate predictions or taking appropriate actions using collected examples and datasets related to a specific phenomenon. These examples can be naturally occurring instances, human-designed data points, or outputs generated by other automated systems (referred to as \"supervised learning\"). The goal is for the machine's performance to improve on new input based solely on past experience without explicit programming after an initial setup phase that involves gathering a dataset and constructing statistical models. It should be noted that despite its name, ML isn't about machines inherently 'learning,' but rather this term is used by analogy with animal learning, indicating the ability of these systems to adapt their algorithms based on experience or data input over time for various useful tasks without being explicitly programmed each step along the way.\u001b[0m\n",
            "Thought:\u001b[32;1m\u001b[1;3mFinal Answer: Machine Learning (ML) is a branch of computer science that focuses on creating algorithms capable of making accurate predictions or taking appropriate actions using collected examples and datasets related to specific phenomena. It involves supervised learning, where outputs generated by other automated systems can be used as inputs for the system to learn from human-designed data points too. The goal is performance improvement based solely on past experience without explicit programming post an initial setup phase involving dataset gathering and statistical model construction.\u001b[0m\n",
            "\n",
            "\u001b[1m> Finished chain.\u001b[0m\n",
            "Machine Learning (ML) is a branch of computer science that focuses on creating algorithms capable of making accurate predictions or taking appropriate actions using collected examples and datasets related to specific phenomena. It involves supervised learning, where outputs generated by other automated systems can be used as inputs for the system to learn from human-designed data points too. The goal is performance improvement based solely on past experience without explicit programming post an initial setup phase involving dataset gathering and statistical model construction.\n"
          ]
        }
      ],
      "source": [
        "import warnings\n",
        "warnings.filterwarnings('ignore')\n",
        "\n",
        "query = \"What is machine learning?\"\n",
        "response = agent.run(query)\n",
        "print(response)"
      ]
    }
  ],
  "metadata": {
    "accelerator": "GPU",
    "colab": {
      "gpuType": "T4",
      "provenance": []
    },
    "kernelspec": {
      "display_name": ".venv",
      "language": "python",
      "name": "python3"
    },
    "language_info": {
      "codemirror_mode": {
        "name": "ipython",
        "version": 3
      },
      "file_extension": ".py",
      "mimetype": "text/x-python",
      "name": "python",
      "nbconvert_exporter": "python",
      "pygments_lexer": "ipython3",
      "version": "3.11.5"
    }
  },
  "nbformat": 4,
  "nbformat_minor": 0
}
